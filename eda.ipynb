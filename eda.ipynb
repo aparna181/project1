{
 "cells": [
  {
   "cell_type": "code",
   "execution_count": 1,
   "metadata": {},
   "outputs": [
    {
     "name": "stdout",
     "output_type": "stream",
     "text": [
      "Requirement already satisfied: pandas in c:\\users\\aparna\\appdata\\local\\packages\\pythonsoftwarefoundation.python.3.11_qbz5n2kfra8p0\\localcache\\local-packages\\python311\\site-packages (2.2.3)Note: you may need to restart the kernel to use updated packages.\n",
      "\n",
      "Requirement already satisfied: numpy>=1.23.2 in c:\\users\\aparna\\appdata\\local\\packages\\pythonsoftwarefoundation.python.3.11_qbz5n2kfra8p0\\localcache\\local-packages\\python311\\site-packages (from pandas) (2.1.1)\n",
      "Requirement already satisfied: python-dateutil>=2.8.2 in c:\\users\\aparna\\appdata\\local\\packages\\pythonsoftwarefoundation.python.3.11_qbz5n2kfra8p0\\localcache\\local-packages\\python311\\site-packages (from pandas) (2.9.0.post0)\n",
      "Requirement already satisfied: pytz>=2020.1 in c:\\users\\aparna\\appdata\\local\\packages\\pythonsoftwarefoundation.python.3.11_qbz5n2kfra8p0\\localcache\\local-packages\\python311\\site-packages (from pandas) (2024.2)\n",
      "Requirement already satisfied: tzdata>=2022.7 in c:\\users\\aparna\\appdata\\local\\packages\\pythonsoftwarefoundation.python.3.11_qbz5n2kfra8p0\\localcache\\local-packages\\python311\\site-packages (from pandas) (2024.2)\n",
      "Requirement already satisfied: six>=1.5 in c:\\users\\aparna\\appdata\\local\\packages\\pythonsoftwarefoundation.python.3.11_qbz5n2kfra8p0\\localcache\\local-packages\\python311\\site-packages (from python-dateutil>=2.8.2->pandas) (1.16.0)\n"
     ]
    },
    {
     "name": "stderr",
     "output_type": "stream",
     "text": [
      "\n",
      "[notice] A new release of pip is available: 24.0 -> 24.2\n",
      "[notice] To update, run: C:\\Users\\APARNA\\AppData\\Local\\Microsoft\\WindowsApps\\PythonSoftwareFoundation.Python.3.11_qbz5n2kfra8p0\\python.exe -m pip install --upgrade pip\n"
     ]
    }
   ],
   "source": [
    "pip install pandas"
   ]
  },
  {
   "cell_type": "code",
   "execution_count": 2,
   "metadata": {},
   "outputs": [],
   "source": [
    "import pandas as pd\n"
   ]
  },
  {
   "cell_type": "code",
   "execution_count": 3,
   "metadata": {},
   "outputs": [],
   "source": [
    "df=pd.read_csv(\"online.csv\")"
   ]
  },
  {
   "cell_type": "code",
   "execution_count": 4,
   "metadata": {},
   "outputs": [
    {
     "data": {
      "text/html": [
       "<div>\n",
       "<style scoped>\n",
       "    .dataframe tbody tr th:only-of-type {\n",
       "        vertical-align: middle;\n",
       "    }\n",
       "\n",
       "    .dataframe tbody tr th {\n",
       "        vertical-align: top;\n",
       "    }\n",
       "\n",
       "    .dataframe thead th {\n",
       "        text-align: right;\n",
       "    }\n",
       "</style>\n",
       "<table border=\"1\" class=\"dataframe\">\n",
       "  <thead>\n",
       "    <tr style=\"text-align: right;\">\n",
       "      <th></th>\n",
       "      <th>Unnamed: 0</th>\n",
       "      <th>order_status</th>\n",
       "      <th>Monthly Income</th>\n",
       "      <th>latitude</th>\n",
       "      <th>Marital Status</th>\n",
       "      <th>Gender</th>\n",
       "      <th>employment_status</th>\n",
       "      <th>Family size</th>\n",
       "      <th>Reviews</th>\n",
       "      <th>Pin code</th>\n",
       "      <th>Age</th>\n",
       "      <th>longitude</th>\n",
       "      <th>Educational Qualifications</th>\n",
       "      <th>Unnamed: 13</th>\n",
       "      <th>9</th>\n",
       "      <th>#@%</th>\n",
       "    </tr>\n",
       "  </thead>\n",
       "  <tbody>\n",
       "    <tr>\n",
       "      <th>0</th>\n",
       "      <td>0</td>\n",
       "      <td>Yes</td>\n",
       "      <td>25001 to 50000</td>\n",
       "      <td>13.0262</td>\n",
       "      <td>Married</td>\n",
       "      <td>Male</td>\n",
       "      <td>Employee</td>\n",
       "      <td>5.0</td>\n",
       "      <td>Positive</td>\n",
       "      <td>560045</td>\n",
       "      <td>28.0</td>\n",
       "      <td>77.6200</td>\n",
       "      <td>Post Graduate</td>\n",
       "      <td>Yes</td>\n",
       "      <td>NaN</td>\n",
       "      <td>swiggyscount</td>\n",
       "    </tr>\n",
       "    <tr>\n",
       "      <th>1</th>\n",
       "      <td>1</td>\n",
       "      <td>Yes</td>\n",
       "      <td>No Income</td>\n",
       "      <td>12.9770</td>\n",
       "      <td>Single</td>\n",
       "      <td>Male</td>\n",
       "      <td>Student</td>\n",
       "      <td>NaN</td>\n",
       "      <td>Positive</td>\n",
       "      <td>560009</td>\n",
       "      <td>NaN</td>\n",
       "      <td>77.5773</td>\n",
       "      <td>Post Graduate</td>\n",
       "      <td>Yes</td>\n",
       "      <td>NaN</td>\n",
       "      <td>*7435</td>\n",
       "    </tr>\n",
       "    <tr>\n",
       "      <th>2</th>\n",
       "      <td>2</td>\n",
       "      <td>Yes</td>\n",
       "      <td>No Income</td>\n",
       "      <td>12.9770</td>\n",
       "      <td>Single</td>\n",
       "      <td>Female</td>\n",
       "      <td>Student</td>\n",
       "      <td>NaN</td>\n",
       "      <td>Positive</td>\n",
       "      <td>560009</td>\n",
       "      <td>NaN</td>\n",
       "      <td>77.5773</td>\n",
       "      <td>Post Graduate</td>\n",
       "      <td>Yes</td>\n",
       "      <td>NaN</td>\n",
       "      <td>*7435</td>\n",
       "    </tr>\n",
       "    <tr>\n",
       "      <th>3</th>\n",
       "      <td>3</td>\n",
       "      <td>Yes</td>\n",
       "      <td>No Income</td>\n",
       "      <td>13.0019</td>\n",
       "      <td>Single</td>\n",
       "      <td>Female</td>\n",
       "      <td>Student</td>\n",
       "      <td>NaN</td>\n",
       "      <td>Positive</td>\n",
       "      <td>560003</td>\n",
       "      <td>NaN</td>\n",
       "      <td>77.5713</td>\n",
       "      <td>Post Graduate</td>\n",
       "      <td>Yes</td>\n",
       "      <td>NaN</td>\n",
       "      <td>*7435</td>\n",
       "    </tr>\n",
       "    <tr>\n",
       "      <th>4</th>\n",
       "      <td>4</td>\n",
       "      <td>Yes</td>\n",
       "      <td>More than 50000</td>\n",
       "      <td>13.0626</td>\n",
       "      <td>Married</td>\n",
       "      <td>Male</td>\n",
       "      <td>Self Employeed</td>\n",
       "      <td>NaN</td>\n",
       "      <td>Positive</td>\n",
       "      <td>560015</td>\n",
       "      <td>NaN</td>\n",
       "      <td>77.5284</td>\n",
       "      <td>School</td>\n",
       "      <td>Yes</td>\n",
       "      <td>NaN</td>\n",
       "      <td>*7435</td>\n",
       "    </tr>\n",
       "  </tbody>\n",
       "</table>\n",
       "</div>"
      ],
      "text/plain": [
       "   Unnamed: 0 order_status   Monthly Income  latitude Marital Status  Gender  \\\n",
       "0           0          Yes   25001 to 50000   13.0262        Married    Male   \n",
       "1           1          Yes        No Income   12.9770         Single    Male   \n",
       "2           2          Yes        No Income   12.9770         Single  Female   \n",
       "3           3          Yes        No Income   13.0019         Single  Female   \n",
       "4           4          Yes  More than 50000   13.0626        Married    Male   \n",
       "\n",
       "  employment_status  Family size   Reviews  Pin code   Age  longitude  \\\n",
       "0          Employee          5.0  Positive    560045  28.0    77.6200   \n",
       "1           Student          NaN  Positive    560009   NaN    77.5773   \n",
       "2           Student          NaN  Positive    560009   NaN    77.5773   \n",
       "3           Student          NaN  Positive    560003   NaN    77.5713   \n",
       "4    Self Employeed          NaN  Positive    560015   NaN    77.5284   \n",
       "\n",
       "  Educational Qualifications Unnamed: 13   9           #@%  \n",
       "0              Post Graduate         Yes NaN  swiggyscount  \n",
       "1              Post Graduate         Yes NaN         *7435  \n",
       "2              Post Graduate         Yes NaN         *7435  \n",
       "3              Post Graduate         Yes NaN         *7435  \n",
       "4                     School         Yes NaN         *7435  "
      ]
     },
     "execution_count": 4,
     "metadata": {},
     "output_type": "execute_result"
    }
   ],
   "source": [
    "df.head()"
   ]
  },
  {
   "cell_type": "code",
   "execution_count": 5,
   "metadata": {},
   "outputs": [
    {
     "name": "stdout",
     "output_type": "stream",
     "text": [
      "Requirement already satisfied: seaborn in c:\\users\\aparna\\appdata\\local\\packages\\pythonsoftwarefoundation.python.3.11_qbz5n2kfra8p0\\localcache\\local-packages\\python311\\site-packages (0.13.2)Note: you may need to restart the kernel to use updated packages.\n",
      "\n",
      "Requirement already satisfied: numpy!=1.24.0,>=1.20 in c:\\users\\aparna\\appdata\\local\\packages\\pythonsoftwarefoundation.python.3.11_qbz5n2kfra8p0\\localcache\\local-packages\\python311\\site-packages (from seaborn) (2.1.1)\n",
      "Requirement already satisfied: pandas>=1.2 in c:\\users\\aparna\\appdata\\local\\packages\\pythonsoftwarefoundation.python.3.11_qbz5n2kfra8p0\\localcache\\local-packages\\python311\\site-packages (from seaborn) (2.2.3)\n",
      "Requirement already satisfied: matplotlib!=3.6.1,>=3.4 in c:\\users\\aparna\\appdata\\local\\packages\\pythonsoftwarefoundation.python.3.11_qbz5n2kfra8p0\\localcache\\local-packages\\python311\\site-packages (from seaborn) (3.9.2)\n",
      "Requirement already satisfied: contourpy>=1.0.1 in c:\\users\\aparna\\appdata\\local\\packages\\pythonsoftwarefoundation.python.3.11_qbz5n2kfra8p0\\localcache\\local-packages\\python311\\site-packages (from matplotlib!=3.6.1,>=3.4->seaborn) (1.3.0)\n",
      "Requirement already satisfied: cycler>=0.10 in c:\\users\\aparna\\appdata\\local\\packages\\pythonsoftwarefoundation.python.3.11_qbz5n2kfra8p0\\localcache\\local-packages\\python311\\site-packages (from matplotlib!=3.6.1,>=3.4->seaborn) (0.12.1)\n",
      "Requirement already satisfied: fonttools>=4.22.0 in c:\\users\\aparna\\appdata\\local\\packages\\pythonsoftwarefoundation.python.3.11_qbz5n2kfra8p0\\localcache\\local-packages\\python311\\site-packages (from matplotlib!=3.6.1,>=3.4->seaborn) (4.54.1)\n",
      "Requirement already satisfied: kiwisolver>=1.3.1 in c:\\users\\aparna\\appdata\\local\\packages\\pythonsoftwarefoundation.python.3.11_qbz5n2kfra8p0\\localcache\\local-packages\\python311\\site-packages (from matplotlib!=3.6.1,>=3.4->seaborn) (1.4.7)\n",
      "Requirement already satisfied: packaging>=20.0 in c:\\users\\aparna\\appdata\\local\\packages\\pythonsoftwarefoundation.python.3.11_qbz5n2kfra8p0\\localcache\\local-packages\\python311\\site-packages (from matplotlib!=3.6.1,>=3.4->seaborn) (24.1)\n",
      "Requirement already satisfied: pillow>=8 in c:\\users\\aparna\\appdata\\local\\packages\\pythonsoftwarefoundation.python.3.11_qbz5n2kfra8p0\\localcache\\local-packages\\python311\\site-packages (from matplotlib!=3.6.1,>=3.4->seaborn) (10.4.0)\n",
      "Requirement already satisfied: pyparsing>=2.3.1 in c:\\users\\aparna\\appdata\\local\\packages\\pythonsoftwarefoundation.python.3.11_qbz5n2kfra8p0\\localcache\\local-packages\\python311\\site-packages (from matplotlib!=3.6.1,>=3.4->seaborn) (3.1.4)\n",
      "Requirement already satisfied: python-dateutil>=2.7 in c:\\users\\aparna\\appdata\\local\\packages\\pythonsoftwarefoundation.python.3.11_qbz5n2kfra8p0\\localcache\\local-packages\\python311\\site-packages (from matplotlib!=3.6.1,>=3.4->seaborn) (2.9.0.post0)\n",
      "Requirement already satisfied: pytz>=2020.1 in c:\\users\\aparna\\appdata\\local\\packages\\pythonsoftwarefoundation.python.3.11_qbz5n2kfra8p0\\localcache\\local-packages\\python311\\site-packages (from pandas>=1.2->seaborn) (2024.2)\n",
      "Requirement already satisfied: tzdata>=2022.7 in c:\\users\\aparna\\appdata\\local\\packages\\pythonsoftwarefoundation.python.3.11_qbz5n2kfra8p0\\localcache\\local-packages\\python311\\site-packages (from pandas>=1.2->seaborn) (2024.2)\n",
      "Requirement already satisfied: six>=1.5 in c:\\users\\aparna\\appdata\\local\\packages\\pythonsoftwarefoundation.python.3.11_qbz5n2kfra8p0\\localcache\\local-packages\\python311\\site-packages (from python-dateutil>=2.7->matplotlib!=3.6.1,>=3.4->seaborn) (1.16.0)\n"
     ]
    },
    {
     "name": "stderr",
     "output_type": "stream",
     "text": [
      "\n",
      "[notice] A new release of pip is available: 24.0 -> 24.2\n",
      "[notice] To update, run: C:\\Users\\APARNA\\AppData\\Local\\Microsoft\\WindowsApps\\PythonSoftwareFoundation.Python.3.11_qbz5n2kfra8p0\\python.exe -m pip install --upgrade pip\n"
     ]
    }
   ],
   "source": [
    "pip install seaborn\n"
   ]
  },
  {
   "cell_type": "code",
   "execution_count": 6,
   "metadata": {},
   "outputs": [
    {
     "name": "stdout",
     "output_type": "stream",
     "text": [
      "Requirement already satisfied: numpy in c:\\users\\aparna\\appdata\\local\\packages\\pythonsoftwarefoundation.python.3.11_qbz5n2kfra8p0\\localcache\\local-packages\\python311\\site-packages (2.1.1)Note: you may need to restart the kernel to use updated packages.\n",
      "\n"
     ]
    },
    {
     "name": "stderr",
     "output_type": "stream",
     "text": [
      "\n",
      "[notice] A new release of pip is available: 24.0 -> 24.2\n",
      "[notice] To update, run: C:\\Users\\APARNA\\AppData\\Local\\Microsoft\\WindowsApps\\PythonSoftwareFoundation.Python.3.11_qbz5n2kfra8p0\\python.exe -m pip install --upgrade pip\n"
     ]
    }
   ],
   "source": [
    "pip install numpy "
   ]
  },
  {
   "cell_type": "code",
   "execution_count": 7,
   "metadata": {},
   "outputs": [
    {
     "name": "stdout",
     "output_type": "stream",
     "text": [
      "Requirement already satisfied: matplotlib in c:\\users\\aparna\\appdata\\local\\packages\\pythonsoftwarefoundation.python.3.11_qbz5n2kfra8p0\\localcache\\local-packages\\python311\\site-packages (3.9.2)Note: you may need to restart the kernel to use updated packages.\n",
      "\n",
      "Requirement already satisfied: contourpy>=1.0.1 in c:\\users\\aparna\\appdata\\local\\packages\\pythonsoftwarefoundation.python.3.11_qbz5n2kfra8p0\\localcache\\local-packages\\python311\\site-packages (from matplotlib) (1.3.0)\n",
      "Requirement already satisfied: cycler>=0.10 in c:\\users\\aparna\\appdata\\local\\packages\\pythonsoftwarefoundation.python.3.11_qbz5n2kfra8p0\\localcache\\local-packages\\python311\\site-packages (from matplotlib) (0.12.1)\n",
      "Requirement already satisfied: fonttools>=4.22.0 in c:\\users\\aparna\\appdata\\local\\packages\\pythonsoftwarefoundation.python.3.11_qbz5n2kfra8p0\\localcache\\local-packages\\python311\\site-packages (from matplotlib) (4.54.1)\n",
      "Requirement already satisfied: kiwisolver>=1.3.1 in c:\\users\\aparna\\appdata\\local\\packages\\pythonsoftwarefoundation.python.3.11_qbz5n2kfra8p0\\localcache\\local-packages\\python311\\site-packages (from matplotlib) (1.4.7)\n",
      "Requirement already satisfied: numpy>=1.23 in c:\\users\\aparna\\appdata\\local\\packages\\pythonsoftwarefoundation.python.3.11_qbz5n2kfra8p0\\localcache\\local-packages\\python311\\site-packages (from matplotlib) (2.1.1)\n",
      "Requirement already satisfied: packaging>=20.0 in c:\\users\\aparna\\appdata\\local\\packages\\pythonsoftwarefoundation.python.3.11_qbz5n2kfra8p0\\localcache\\local-packages\\python311\\site-packages (from matplotlib) (24.1)\n",
      "Requirement already satisfied: pillow>=8 in c:\\users\\aparna\\appdata\\local\\packages\\pythonsoftwarefoundation.python.3.11_qbz5n2kfra8p0\\localcache\\local-packages\\python311\\site-packages (from matplotlib) (10.4.0)\n",
      "Requirement already satisfied: pyparsing>=2.3.1 in c:\\users\\aparna\\appdata\\local\\packages\\pythonsoftwarefoundation.python.3.11_qbz5n2kfra8p0\\localcache\\local-packages\\python311\\site-packages (from matplotlib) (3.1.4)\n",
      "Requirement already satisfied: python-dateutil>=2.7 in c:\\users\\aparna\\appdata\\local\\packages\\pythonsoftwarefoundation.python.3.11_qbz5n2kfra8p0\\localcache\\local-packages\\python311\\site-packages (from matplotlib) (2.9.0.post0)\n",
      "Requirement already satisfied: six>=1.5 in c:\\users\\aparna\\appdata\\local\\packages\\pythonsoftwarefoundation.python.3.11_qbz5n2kfra8p0\\localcache\\local-packages\\python311\\site-packages (from python-dateutil>=2.7->matplotlib) (1.16.0)\n"
     ]
    },
    {
     "name": "stderr",
     "output_type": "stream",
     "text": [
      "\n",
      "[notice] A new release of pip is available: 24.0 -> 24.2\n",
      "[notice] To update, run: C:\\Users\\APARNA\\AppData\\Local\\Microsoft\\WindowsApps\\PythonSoftwareFoundation.Python.3.11_qbz5n2kfra8p0\\python.exe -m pip install --upgrade pip\n"
     ]
    }
   ],
   "source": [
    "pip install matplotlib"
   ]
  },
  {
   "cell_type": "code",
   "execution_count": null,
   "metadata": {},
   "outputs": [
    {
     "name": "stdout",
     "output_type": "stream",
     "text": [
      "<class 'pandas.core.frame.DataFrame'>\n",
      "RangeIndex: 388 entries, 0 to 387\n",
      "Data columns (total 16 columns):\n",
      " #   Column                      Non-Null Count  Dtype  \n",
      "---  ------                      --------------  -----  \n",
      " 0   Unnamed: 0                  388 non-null    int64  \n",
      " 1   order_status                388 non-null    object \n",
      " 2   Monthly Income              388 non-null    object \n",
      " 3   latitude                    388 non-null    float64\n",
      " 4   Marital Status              388 non-null    object \n",
      " 5   Gender                      388 non-null    object \n",
      " 6   employment_status           388 non-null    object \n",
      " 7   Family size                 369 non-null    float64\n",
      " 8   Reviews                     388 non-null    object \n",
      " 9   Pin code                    388 non-null    int64  \n",
      " 10  Age                         369 non-null    float64\n",
      " 11  longitude                   388 non-null    float64\n",
      " 12  Educational Qualifications  388 non-null    object \n",
      " 13  Unnamed: 13                 388 non-null    object \n",
      " 14  9                           0 non-null      float64\n",
      " 15  #@%                         6 non-null      object \n",
      "dtypes: float64(5), int64(2), object(9)\n",
      "memory usage: 48.6+ KB\n"
     ]
    }
   ],
   "source": [
    "df.info()"
   ]
  },
  {
   "cell_type": "code",
   "execution_count": 9,
   "metadata": {},
   "outputs": [
    {
     "data": {
      "text/plain": [
       "(388, 16)"
      ]
     },
     "execution_count": 9,
     "metadata": {},
     "output_type": "execute_result"
    }
   ],
   "source": [
    "df.shape"
   ]
  },
  {
   "cell_type": "markdown",
   "metadata": {},
   "source": [
    "#handling missing value\n"
   ]
  },
  {
   "cell_type": "code",
   "execution_count": 10,
   "metadata": {},
   "outputs": [
    {
     "data": {
      "text/plain": [
       "Unnamed: 0                      0\n",
       "order_status                    0\n",
       "Monthly Income                  0\n",
       "latitude                        0\n",
       "Marital Status                  0\n",
       "Gender                          0\n",
       "employment_status               0\n",
       "Family size                    19\n",
       "Reviews                         0\n",
       "Pin code                        0\n",
       "Age                            19\n",
       "longitude                       0\n",
       "Educational Qualifications      0\n",
       "Unnamed: 13                     0\n",
       "9                             388\n",
       "#@%                           382\n",
       "dtype: int64"
      ]
     },
     "execution_count": 10,
     "metadata": {},
     "output_type": "execute_result"
    }
   ],
   "source": [
    "#checking missing value\n",
    "df.isnull().sum()"
   ]
  },
  {
   "cell_type": "code",
   "execution_count": 11,
   "metadata": {},
   "outputs": [],
   "source": [
    "# 9,  # @%, unnamed : 13,Unnamed: 0\n",
    "# drop the columns\n",
    "df.drop(columns=[\"9\",\"#@%\",\"Unnamed: 13\", \"Unnamed: 0\"], inplace=True)"
   ]
  },
  {
   "cell_type": "code",
   "execution_count": 12,
   "metadata": {},
   "outputs": [
    {
     "data": {
      "text/plain": [
       "(388, 12)"
      ]
     },
     "execution_count": 12,
     "metadata": {},
     "output_type": "execute_result"
    }
   ],
   "source": [
    "df.shape"
   ]
  },
  {
   "cell_type": "code",
   "execution_count": 13,
   "metadata": {},
   "outputs": [
    {
     "data": {
      "text/plain": [
       "order_status                   0\n",
       "Monthly Income                 0\n",
       "latitude                       0\n",
       "Marital Status                 0\n",
       "Gender                         0\n",
       "employment_status              0\n",
       "Family size                   19\n",
       "Reviews                        0\n",
       "Pin code                       0\n",
       "Age                           19\n",
       "longitude                      0\n",
       "Educational Qualifications     0\n",
       "dtype: int64"
      ]
     },
     "execution_count": 13,
     "metadata": {},
     "output_type": "execute_result"
    }
   ],
   "source": [
    "df.isnull().sum()"
   ]
  },
  {
   "cell_type": "code",
   "execution_count": 14,
   "metadata": {},
   "outputs": [],
   "source": [
    "# Mean imputation\n",
    "family_mean=int(df[\"Family size\"].mean())\n"
   ]
  },
  {
   "cell_type": "code",
   "execution_count": 15,
   "metadata": {},
   "outputs": [
    {
     "name": "stderr",
     "output_type": "stream",
     "text": [
      "C:\\Users\\APARNA\\AppData\\Local\\Temp\\ipykernel_18296\\2739253723.py:2: FutureWarning: A value is trying to be set on a copy of a DataFrame or Series through chained assignment using an inplace method.\n",
      "The behavior will change in pandas 3.0. This inplace method will never work because the intermediate object on which we are setting values always behaves as a copy.\n",
      "\n",
      "For example, when doing 'df[col].method(value, inplace=True)', try using 'df.method({col: value}, inplace=True)' or df[col] = df[col].method(value) instead, to perform the operation inplace on the original object.\n",
      "\n",
      "\n",
      "  df[\"Family size\"].fillna(family_mean,inplace=True)\n"
     ]
    }
   ],
   "source": [
    "# to fill the missing values in a column we use fillna function\n",
    "df[\"Family size\"].fillna(family_mean,inplace=True)"
   ]
  },
  {
   "cell_type": "code",
   "execution_count": 16,
   "metadata": {},
   "outputs": [
    {
     "data": {
      "text/plain": [
       "order_status                   0\n",
       "Monthly Income                 0\n",
       "latitude                       0\n",
       "Marital Status                 0\n",
       "Gender                         0\n",
       "employment_status              0\n",
       "Family size                    0\n",
       "Reviews                        0\n",
       "Pin code                       0\n",
       "Age                           19\n",
       "longitude                      0\n",
       "Educational Qualifications     0\n",
       "dtype: int64"
      ]
     },
     "execution_count": 16,
     "metadata": {},
     "output_type": "execute_result"
    }
   ],
   "source": [
    "df.isnull().sum()"
   ]
  },
  {
   "cell_type": "code",
   "execution_count": 17,
   "metadata": {},
   "outputs": [
    {
     "name": "stderr",
     "output_type": "stream",
     "text": [
      "C:\\Users\\APARNA\\AppData\\Local\\Temp\\ipykernel_18296\\2849666284.py:2: FutureWarning: A value is trying to be set on a copy of a DataFrame or Series through chained assignment using an inplace method.\n",
      "The behavior will change in pandas 3.0. This inplace method will never work because the intermediate object on which we are setting values always behaves as a copy.\n",
      "\n",
      "For example, when doing 'df[col].method(value, inplace=True)', try using 'df.method({col: value}, inplace=True)' or df[col] = df[col].method(value) instead, to perform the operation inplace on the original object.\n",
      "\n",
      "\n",
      "  df[\"Age\"].fillna(age_median,inplace=True)\n"
     ]
    }
   ],
   "source": [
    "age_median = int(df[\"Age\"].median())\n",
    "df[\"Age\"].fillna(age_median,inplace=True)"
   ]
  },
  {
   "cell_type": "code",
   "execution_count": 18,
   "metadata": {},
   "outputs": [
    {
     "data": {
      "text/plain": [
       "order_status                  0\n",
       "Monthly Income                0\n",
       "latitude                      0\n",
       "Marital Status                0\n",
       "Gender                        0\n",
       "employment_status             0\n",
       "Family size                   0\n",
       "Reviews                       0\n",
       "Pin code                      0\n",
       "Age                           0\n",
       "longitude                     0\n",
       "Educational Qualifications    0\n",
       "dtype: int64"
      ]
     },
     "execution_count": 18,
     "metadata": {},
     "output_type": "execute_result"
    }
   ],
   "source": [
    "df.isnull().sum()"
   ]
  },
  {
   "cell_type": "code",
   "execution_count": 19,
   "metadata": {},
   "outputs": [
    {
     "data": {
      "text/plain": [
       "np.int64(101)"
      ]
     },
     "execution_count": 19,
     "metadata": {},
     "output_type": "execute_result"
    }
   ],
   "source": [
    "# Check for duplicates\n",
    "df.duplicated().sum()\n",
    "\n",
    "\n"
   ]
  },
  {
   "cell_type": "code",
   "execution_count": 20,
   "metadata": {},
   "outputs": [],
   "source": [
    "# Drop duplicates\n",
    "df.drop_duplicates(inplace=True)"
   ]
  },
  {
   "cell_type": "code",
   "execution_count": 21,
   "metadata": {},
   "outputs": [
    {
     "data": {
      "text/plain": [
       "order_status                  0\n",
       "Monthly Income                0\n",
       "latitude                      0\n",
       "Marital Status                0\n",
       "Gender                        0\n",
       "employment_status             0\n",
       "Family size                   0\n",
       "Reviews                       0\n",
       "Pin code                      0\n",
       "Age                           0\n",
       "longitude                     0\n",
       "Educational Qualifications    0\n",
       "dtype: int64"
      ]
     },
     "execution_count": 21,
     "metadata": {},
     "output_type": "execute_result"
    }
   ],
   "source": [
    "df.isnull().sum()"
   ]
  },
  {
   "cell_type": "markdown",
   "metadata": {},
   "source": [
    "Outliers\n"
   ]
  },
  {
   "cell_type": "code",
   "execution_count": 22,
   "metadata": {},
   "outputs": [
    {
     "data": {
      "image/png": "[encoded data removed]",
      "text/plain": [
       "<Figure size 640x480 with 1 Axes>"
      ]
     },
     "metadata": {},
     "output_type": "display_data"
    }
   ],
   "source": [
    "import matplotlib.pyplot as plt\n",
    "import seaborn as sns\n",
    "\n",
    "# Create a box plot\n",
    "sns.boxplot(df['Family size'])\n",
    "plt.show()"
   ]
  },
  {
   "cell_type": "code",
   "execution_count": 23,
   "metadata": {},
   "outputs": [
    {
     "data": {
      "text/html": [
       "<div>\n",
       "<style scoped>\n",
       "    .dataframe tbody tr th:only-of-type {\n",
       "        vertical-align: middle;\n",
       "    }\n",
       "\n",
       "    .dataframe tbody tr th {\n",
       "        vertical-align: top;\n",
       "    }\n",
       "\n",
       "    .dataframe thead th {\n",
       "        text-align: right;\n",
       "    }\n",
       "</style>\n",
       "<table border=\"1\" class=\"dataframe\">\n",
       "  <thead>\n",
       "    <tr style=\"text-align: right;\">\n",
       "      <th></th>\n",
       "      <th>latitude</th>\n",
       "      <th>Family size</th>\n",
       "      <th>Pin code</th>\n",
       "      <th>Age</th>\n",
       "      <th>longitude</th>\n",
       "    </tr>\n",
       "  </thead>\n",
       "  <tbody>\n",
       "    <tr>\n",
       "      <th>count</th>\n",
       "      <td>287.000000</td>\n",
       "      <td>287.000000</td>\n",
       "      <td>287.000000</td>\n",
       "      <td>287.000000</td>\n",
       "      <td>287.000000</td>\n",
       "    </tr>\n",
       "    <tr>\n",
       "      <th>mean</th>\n",
       "      <td>12.973197</td>\n",
       "      <td>3.264808</td>\n",
       "      <td>560037.592334</td>\n",
       "      <td>24.648084</td>\n",
       "      <td>77.597747</td>\n",
       "    </tr>\n",
       "    <tr>\n",
       "      <th>std</th>\n",
       "      <td>0.043990</td>\n",
       "      <td>1.335207</td>\n",
       "      <td>30.789228</td>\n",
       "      <td>2.952690</td>\n",
       "      <td>0.053370</td>\n",
       "    </tr>\n",
       "    <tr>\n",
       "      <th>min</th>\n",
       "      <td>12.865200</td>\n",
       "      <td>1.000000</td>\n",
       "      <td>560001.000000</td>\n",
       "      <td>18.000000</td>\n",
       "      <td>77.484200</td>\n",
       "    </tr>\n",
       "    <tr>\n",
       "      <th>25%</th>\n",
       "      <td>12.943800</td>\n",
       "      <td>2.000000</td>\n",
       "      <td>560010.000000</td>\n",
       "      <td>23.000000</td>\n",
       "      <td>77.563400</td>\n",
       "    </tr>\n",
       "    <tr>\n",
       "      <th>50%</th>\n",
       "      <td>12.977000</td>\n",
       "      <td>3.000000</td>\n",
       "      <td>560029.000000</td>\n",
       "      <td>24.000000</td>\n",
       "      <td>77.590000</td>\n",
       "    </tr>\n",
       "    <tr>\n",
       "      <th>75%</th>\n",
       "      <td>12.998000</td>\n",
       "      <td>4.000000</td>\n",
       "      <td>560066.000000</td>\n",
       "      <td>26.000000</td>\n",
       "      <td>77.622700</td>\n",
       "    </tr>\n",
       "    <tr>\n",
       "      <th>max</th>\n",
       "      <td>13.102000</td>\n",
       "      <td>6.000000</td>\n",
       "      <td>560109.000000</td>\n",
       "      <td>33.000000</td>\n",
       "      <td>77.758200</td>\n",
       "    </tr>\n",
       "  </tbody>\n",
       "</table>\n",
       "</div>"
      ],
      "text/plain": [
       "         latitude  Family size       Pin code         Age   longitude\n",
       "count  287.000000   287.000000     287.000000  287.000000  287.000000\n",
       "mean    12.973197     3.264808  560037.592334   24.648084   77.597747\n",
       "std      0.043990     1.335207      30.789228    2.952690    0.053370\n",
       "min     12.865200     1.000000  560001.000000   18.000000   77.484200\n",
       "25%     12.943800     2.000000  560010.000000   23.000000   77.563400\n",
       "50%     12.977000     3.000000  560029.000000   24.000000   77.590000\n",
       "75%     12.998000     4.000000  560066.000000   26.000000   77.622700\n",
       "max     13.102000     6.000000  560109.000000   33.000000   77.758200"
      ]
     },
     "execution_count": 23,
     "metadata": {},
     "output_type": "execute_result"
    }
   ],
   "source": [
    "# lower limit =q1-1.5*IQR\n",
    "# upper limit = q3 + 1.5*IQR\n",
    "df.describe()"
   ]
  },
  {
   "cell_type": "code",
   "execution_count": 24,
   "metadata": {},
   "outputs": [
    {
     "data": {
      "image/png": "[encoded data removed]",
      "text/plain": [
       "<Figure size 1250x1250 with 30 Axes>"
      ]
     },
     "metadata": {},
     "output_type": "display_data"
    }
   ],
   "source": [
    "sns.pairplot(df)\n",
    "plt.show()\n"
   ]
  },
  {
   "cell_type": "code",
   "execution_count": 25,
   "metadata": {},
   "outputs": [],
   "source": [
    "q1=int(df.describe()[\"Age\"][\"25%\"])\n",
    "q3=int(df.describe()[\"Age\"][\"75%\"])"
   ]
  },
  {
   "cell_type": "code",
   "execution_count": 26,
   "metadata": {},
   "outputs": [
    {
     "name": "stdout",
     "output_type": "stream",
     "text": [
      "3\n"
     ]
    }
   ],
   "source": [
    "IQR=q3-q1\n",
    "print(IQR)"
   ]
  },
  {
   "cell_type": "code",
   "execution_count": 27,
   "metadata": {},
   "outputs": [],
   "source": [
    "lower_limit =q1-1.5*IQR\n",
    "upper_limit = q3 + 1.5*IQR"
   ]
  },
  {
   "cell_type": "code",
   "execution_count": 28,
   "metadata": {},
   "outputs": [
    {
     "data": {
      "text/plain": [
       "18.5"
      ]
     },
     "execution_count": 28,
     "metadata": {},
     "output_type": "execute_result"
    }
   ],
   "source": [
    "lower_limit"
   ]
  },
  {
   "cell_type": "code",
   "execution_count": 29,
   "metadata": {},
   "outputs": [
    {
     "data": {
      "text/plain": [
       "30.5"
      ]
     },
     "execution_count": 29,
     "metadata": {},
     "output_type": "execute_result"
    }
   ],
   "source": [
    "upper_limit"
   ]
  },
  {
   "cell_type": "code",
   "execution_count": 30,
   "metadata": {},
   "outputs": [
    {
     "data": {
      "text/plain": [
       "order_status                  19\n",
       "Monthly Income                19\n",
       "latitude                      19\n",
       "Marital Status                19\n",
       "Gender                        19\n",
       "employment_status             19\n",
       "Family size                   19\n",
       "Reviews                       19\n",
       "Pin code                      19\n",
       "Age                           19\n",
       "longitude                     19\n",
       "Educational Qualifications    19\n",
       "dtype: int64"
      ]
     },
     "execution_count": 30,
     "metadata": {},
     "output_type": "execute_result"
    }
   ],
   "source": [
    "#find outlier using IQR\n",
    "df[(df[\"Age\"]>upper_limit) | (df[\"Age\"]<lower_limit)].count()"
   ]
  },
  {
   "cell_type": "code",
   "execution_count": 31,
   "metadata": {},
   "outputs": [
    {
     "data": {
      "text/html": [
       "<div>\n",
       "<style scoped>\n",
       "    .dataframe tbody tr th:only-of-type {\n",
       "        vertical-align: middle;\n",
       "    }\n",
       "\n",
       "    .dataframe tbody tr th {\n",
       "        vertical-align: top;\n",
       "    }\n",
       "\n",
       "    .dataframe thead th {\n",
       "        text-align: right;\n",
       "    }\n",
       "</style>\n",
       "<table border=\"1\" class=\"dataframe\">\n",
       "  <thead>\n",
       "    <tr style=\"text-align: right;\">\n",
       "      <th></th>\n",
       "      <th>order_status</th>\n",
       "      <th>Monthly Income</th>\n",
       "      <th>latitude</th>\n",
       "      <th>Marital Status</th>\n",
       "      <th>Gender</th>\n",
       "      <th>employment_status</th>\n",
       "      <th>Family size</th>\n",
       "      <th>Reviews</th>\n",
       "      <th>Pin code</th>\n",
       "      <th>Age</th>\n",
       "      <th>longitude</th>\n",
       "      <th>Educational Qualifications</th>\n",
       "    </tr>\n",
       "  </thead>\n",
       "  <tbody>\n",
       "    <tr>\n",
       "      <th>16</th>\n",
       "      <td>Yes</td>\n",
       "      <td>25001 to 50000</td>\n",
       "      <td>12.9706</td>\n",
       "      <td>Married</td>\n",
       "      <td>Male</td>\n",
       "      <td>Employee</td>\n",
       "      <td>3.0</td>\n",
       "      <td>Positive</td>\n",
       "      <td>560075</td>\n",
       "      <td>32.0</td>\n",
       "      <td>77.6529</td>\n",
       "      <td>Graduate</td>\n",
       "    </tr>\n",
       "    <tr>\n",
       "      <th>26</th>\n",
       "      <td>Yes</td>\n",
       "      <td>10001 to 25000</td>\n",
       "      <td>12.9820</td>\n",
       "      <td>Married</td>\n",
       "      <td>Male</td>\n",
       "      <td>Self Employeed</td>\n",
       "      <td>3.0</td>\n",
       "      <td>Negative</td>\n",
       "      <td>560008</td>\n",
       "      <td>32.0</td>\n",
       "      <td>77.6256</td>\n",
       "      <td>School</td>\n",
       "    </tr>\n",
       "    <tr>\n",
       "      <th>31</th>\n",
       "      <td>No</td>\n",
       "      <td>More than 50000</td>\n",
       "      <td>13.0019</td>\n",
       "      <td>Married</td>\n",
       "      <td>Female</td>\n",
       "      <td>Employee</td>\n",
       "      <td>1.0</td>\n",
       "      <td>Positive</td>\n",
       "      <td>560003</td>\n",
       "      <td>32.0</td>\n",
       "      <td>77.5713</td>\n",
       "      <td>Graduate</td>\n",
       "    </tr>\n",
       "    <tr>\n",
       "      <th>33</th>\n",
       "      <td>No</td>\n",
       "      <td>No Income</td>\n",
       "      <td>13.0140</td>\n",
       "      <td>Married</td>\n",
       "      <td>Female</td>\n",
       "      <td>House wife</td>\n",
       "      <td>3.0</td>\n",
       "      <td>Positive</td>\n",
       "      <td>560012</td>\n",
       "      <td>32.0</td>\n",
       "      <td>77.5658</td>\n",
       "      <td>Uneducated</td>\n",
       "    </tr>\n",
       "    <tr>\n",
       "      <th>74</th>\n",
       "      <td>Yes</td>\n",
       "      <td>More than 50000</td>\n",
       "      <td>12.9037</td>\n",
       "      <td>Married</td>\n",
       "      <td>Male</td>\n",
       "      <td>Employee</td>\n",
       "      <td>5.0</td>\n",
       "      <td>Positive</td>\n",
       "      <td>560061</td>\n",
       "      <td>32.0</td>\n",
       "      <td>77.5376</td>\n",
       "      <td>Graduate</td>\n",
       "    </tr>\n",
       "    <tr>\n",
       "      <th>98</th>\n",
       "      <td>Yes</td>\n",
       "      <td>More than 50000</td>\n",
       "      <td>12.9369</td>\n",
       "      <td>Married</td>\n",
       "      <td>Male</td>\n",
       "      <td>Employee</td>\n",
       "      <td>6.0</td>\n",
       "      <td>Positive</td>\n",
       "      <td>560095</td>\n",
       "      <td>32.0</td>\n",
       "      <td>77.6407</td>\n",
       "      <td>Post Graduate</td>\n",
       "    </tr>\n",
       "    <tr>\n",
       "      <th>105</th>\n",
       "      <td>Yes</td>\n",
       "      <td>More than 50000</td>\n",
       "      <td>13.0487</td>\n",
       "      <td>Married</td>\n",
       "      <td>Male</td>\n",
       "      <td>Self Employeed</td>\n",
       "      <td>6.0</td>\n",
       "      <td>Positive</td>\n",
       "      <td>560024</td>\n",
       "      <td>31.0</td>\n",
       "      <td>77.5923</td>\n",
       "      <td>School</td>\n",
       "    </tr>\n",
       "    <tr>\n",
       "      <th>139</th>\n",
       "      <td>Yes</td>\n",
       "      <td>No Income</td>\n",
       "      <td>12.9889</td>\n",
       "      <td>Married</td>\n",
       "      <td>Female</td>\n",
       "      <td>House wife</td>\n",
       "      <td>5.0</td>\n",
       "      <td>Positive</td>\n",
       "      <td>560020</td>\n",
       "      <td>32.0</td>\n",
       "      <td>77.5741</td>\n",
       "      <td>School</td>\n",
       "    </tr>\n",
       "    <tr>\n",
       "      <th>147</th>\n",
       "      <td>Yes</td>\n",
       "      <td>No Income</td>\n",
       "      <td>12.9635</td>\n",
       "      <td>Single</td>\n",
       "      <td>Male</td>\n",
       "      <td>Student</td>\n",
       "      <td>5.0</td>\n",
       "      <td>Positive</td>\n",
       "      <td>560002</td>\n",
       "      <td>18.0</td>\n",
       "      <td>77.5821</td>\n",
       "      <td>Graduate</td>\n",
       "    </tr>\n",
       "    <tr>\n",
       "      <th>151</th>\n",
       "      <td>Yes</td>\n",
       "      <td>10001 to 25000</td>\n",
       "      <td>12.9783</td>\n",
       "      <td>Married</td>\n",
       "      <td>Male</td>\n",
       "      <td>Employee</td>\n",
       "      <td>4.0</td>\n",
       "      <td>Positive</td>\n",
       "      <td>560038</td>\n",
       "      <td>32.0</td>\n",
       "      <td>77.6408</td>\n",
       "      <td>Graduate</td>\n",
       "    </tr>\n",
       "    <tr>\n",
       "      <th>153</th>\n",
       "      <td>No</td>\n",
       "      <td>More than 50000</td>\n",
       "      <td>12.9980</td>\n",
       "      <td>Married</td>\n",
       "      <td>Male</td>\n",
       "      <td>Employee</td>\n",
       "      <td>5.0</td>\n",
       "      <td>Negative</td>\n",
       "      <td>560005</td>\n",
       "      <td>33.0</td>\n",
       "      <td>77.6227</td>\n",
       "      <td>Ph.D</td>\n",
       "    </tr>\n",
       "    <tr>\n",
       "      <th>175</th>\n",
       "      <td>Yes</td>\n",
       "      <td>More than 50000</td>\n",
       "      <td>12.9306</td>\n",
       "      <td>Married</td>\n",
       "      <td>Male</td>\n",
       "      <td>Employee</td>\n",
       "      <td>3.0</td>\n",
       "      <td>Positive</td>\n",
       "      <td>560085</td>\n",
       "      <td>31.0</td>\n",
       "      <td>77.5434</td>\n",
       "      <td>Ph.D</td>\n",
       "    </tr>\n",
       "    <tr>\n",
       "      <th>228</th>\n",
       "      <td>Yes</td>\n",
       "      <td>More than 50000</td>\n",
       "      <td>12.9119</td>\n",
       "      <td>Married</td>\n",
       "      <td>Male</td>\n",
       "      <td>Employee</td>\n",
       "      <td>5.0</td>\n",
       "      <td>Positive</td>\n",
       "      <td>560102</td>\n",
       "      <td>31.0</td>\n",
       "      <td>77.6446</td>\n",
       "      <td>Ph.D</td>\n",
       "    </tr>\n",
       "    <tr>\n",
       "      <th>232</th>\n",
       "      <td>No</td>\n",
       "      <td>Below Rs.10000</td>\n",
       "      <td>12.9866</td>\n",
       "      <td>Prefer not to say</td>\n",
       "      <td>Male</td>\n",
       "      <td>Employee</td>\n",
       "      <td>1.0</td>\n",
       "      <td>Negative</td>\n",
       "      <td>560091</td>\n",
       "      <td>31.0</td>\n",
       "      <td>77.4904</td>\n",
       "      <td>Graduate</td>\n",
       "    </tr>\n",
       "    <tr>\n",
       "      <th>263</th>\n",
       "      <td>Yes</td>\n",
       "      <td>More than 50000</td>\n",
       "      <td>12.9635</td>\n",
       "      <td>Married</td>\n",
       "      <td>Male</td>\n",
       "      <td>Employee</td>\n",
       "      <td>5.0</td>\n",
       "      <td>Negative</td>\n",
       "      <td>560002</td>\n",
       "      <td>32.0</td>\n",
       "      <td>77.5821</td>\n",
       "      <td>Ph.D</td>\n",
       "    </tr>\n",
       "    <tr>\n",
       "      <th>332</th>\n",
       "      <td>Yes</td>\n",
       "      <td>No Income</td>\n",
       "      <td>12.9850</td>\n",
       "      <td>Married</td>\n",
       "      <td>Female</td>\n",
       "      <td>House wife</td>\n",
       "      <td>3.0</td>\n",
       "      <td>Positive</td>\n",
       "      <td>560010</td>\n",
       "      <td>32.0</td>\n",
       "      <td>77.5533</td>\n",
       "      <td>Graduate</td>\n",
       "    </tr>\n",
       "    <tr>\n",
       "      <th>337</th>\n",
       "      <td>Yes</td>\n",
       "      <td>25001 to 50000</td>\n",
       "      <td>12.9261</td>\n",
       "      <td>Married</td>\n",
       "      <td>Female</td>\n",
       "      <td>Employee</td>\n",
       "      <td>5.0</td>\n",
       "      <td>Positive</td>\n",
       "      <td>560034</td>\n",
       "      <td>32.0</td>\n",
       "      <td>77.6221</td>\n",
       "      <td>Graduate</td>\n",
       "    </tr>\n",
       "    <tr>\n",
       "      <th>351</th>\n",
       "      <td>Yes</td>\n",
       "      <td>No Income</td>\n",
       "      <td>13.0289</td>\n",
       "      <td>Married</td>\n",
       "      <td>Female</td>\n",
       "      <td>House wife</td>\n",
       "      <td>5.0</td>\n",
       "      <td>Positive</td>\n",
       "      <td>560022</td>\n",
       "      <td>31.0</td>\n",
       "      <td>77.5400</td>\n",
       "      <td>School</td>\n",
       "    </tr>\n",
       "    <tr>\n",
       "      <th>369</th>\n",
       "      <td>Yes</td>\n",
       "      <td>More than 50000</td>\n",
       "      <td>12.9662</td>\n",
       "      <td>Married</td>\n",
       "      <td>Female</td>\n",
       "      <td>Employee</td>\n",
       "      <td>5.0</td>\n",
       "      <td>Positive</td>\n",
       "      <td>560025</td>\n",
       "      <td>31.0</td>\n",
       "      <td>77.6068</td>\n",
       "      <td>Ph.D</td>\n",
       "    </tr>\n",
       "  </tbody>\n",
       "</table>\n",
       "</div>"
      ],
      "text/plain": [
       "    order_status   Monthly Income  latitude     Marital Status  Gender  \\\n",
       "16           Yes   25001 to 50000   12.9706            Married    Male   \n",
       "26           Yes   10001 to 25000   12.9820            Married    Male   \n",
       "31            No  More than 50000   13.0019            Married  Female   \n",
       "33            No        No Income   13.0140            Married  Female   \n",
       "74           Yes  More than 50000   12.9037            Married    Male   \n",
       "98           Yes  More than 50000   12.9369            Married    Male   \n",
       "105          Yes  More than 50000   13.0487            Married    Male   \n",
       "139          Yes        No Income   12.9889            Married  Female   \n",
       "147          Yes        No Income   12.9635             Single    Male   \n",
       "151          Yes   10001 to 25000   12.9783            Married    Male   \n",
       "153           No  More than 50000   12.9980            Married    Male   \n",
       "175          Yes  More than 50000   12.9306            Married    Male   \n",
       "228          Yes  More than 50000   12.9119            Married    Male   \n",
       "232           No   Below Rs.10000   12.9866  Prefer not to say    Male   \n",
       "263          Yes  More than 50000   12.9635            Married    Male   \n",
       "332          Yes        No Income   12.9850            Married  Female   \n",
       "337          Yes   25001 to 50000   12.9261            Married  Female   \n",
       "351          Yes        No Income   13.0289            Married  Female   \n",
       "369          Yes  More than 50000   12.9662            Married  Female   \n",
       "\n",
       "    employment_status  Family size   Reviews  Pin code   Age  longitude  \\\n",
       "16           Employee          3.0  Positive    560075  32.0    77.6529   \n",
       "26     Self Employeed          3.0  Negative    560008  32.0    77.6256   \n",
       "31           Employee          1.0  Positive    560003  32.0    77.5713   \n",
       "33         House wife          3.0  Positive    560012  32.0    77.5658   \n",
       "74           Employee          5.0  Positive    560061  32.0    77.5376   \n",
       "98           Employee          6.0  Positive    560095  32.0    77.6407   \n",
       "105    Self Employeed          6.0  Positive    560024  31.0    77.5923   \n",
       "139        House wife          5.0  Positive    560020  32.0    77.5741   \n",
       "147           Student          5.0  Positive    560002  18.0    77.5821   \n",
       "151          Employee          4.0  Positive    560038  32.0    77.6408   \n",
       "153          Employee          5.0  Negative    560005  33.0    77.6227   \n",
       "175          Employee          3.0  Positive    560085  31.0    77.5434   \n",
       "228          Employee          5.0  Positive    560102  31.0    77.6446   \n",
       "232          Employee          1.0  Negative    560091  31.0    77.4904   \n",
       "263          Employee          5.0  Negative    560002  32.0    77.5821   \n",
       "332        House wife          3.0  Positive    560010  32.0    77.5533   \n",
       "337          Employee          5.0  Positive    560034  32.0    77.6221   \n",
       "351        House wife          5.0  Positive    560022  31.0    77.5400   \n",
       "369          Employee          5.0  Positive    560025  31.0    77.6068   \n",
       "\n",
       "    Educational Qualifications  \n",
       "16                    Graduate  \n",
       "26                      School  \n",
       "31                    Graduate  \n",
       "33                  Uneducated  \n",
       "74                    Graduate  \n",
       "98               Post Graduate  \n",
       "105                     School  \n",
       "139                     School  \n",
       "147                   Graduate  \n",
       "151                   Graduate  \n",
       "153                       Ph.D  \n",
       "175                       Ph.D  \n",
       "228                       Ph.D  \n",
       "232                   Graduate  \n",
       "263                       Ph.D  \n",
       "332                   Graduate  \n",
       "337                   Graduate  \n",
       "351                     School  \n",
       "369                       Ph.D  "
      ]
     },
     "execution_count": 31,
     "metadata": {},
     "output_type": "execute_result"
    }
   ],
   "source": [
    "# These are my outliers\n",
    "df[(df[\"Age\"]>upper_limit) | (df[\"Age\"]<lower_limit)]"
   ]
  },
  {
   "cell_type": "code",
   "execution_count": 32,
   "metadata": {},
   "outputs": [
    {
     "data": {
      "text/plain": [
       "order_status                  268\n",
       "Monthly Income                268\n",
       "latitude                      268\n",
       "Marital Status                268\n",
       "Gender                        268\n",
       "employment_status             268\n",
       "Family size                   268\n",
       "Reviews                       268\n",
       "Pin code                      268\n",
       "Age                           268\n",
       "longitude                     268\n",
       "Educational Qualifications    268\n",
       "dtype: int64"
      ]
     },
     "execution_count": 32,
     "metadata": {},
     "output_type": "execute_result"
    }
   ],
   "source": [
    "# removing the outliers(trimming)\n",
    "\n",
    "df[(df[\"Age\"]<upper_limit) & (df[\"Age\"]>lower_limit)].count()"
   ]
  },
  {
   "cell_type": "code",
   "execution_count": 33,
   "metadata": {},
   "outputs": [
    {
     "name": "stderr",
     "output_type": "stream",
     "text": [
      "C:\\Users\\APARNA\\AppData\\Local\\Temp\\ipykernel_18296\\2735311850.py:2: FutureWarning: A value is trying to be set on a copy of a DataFrame or Series through chained assignment using an inplace method.\n",
      "The behavior will change in pandas 3.0. This inplace method will never work because the intermediate object on which we are setting values always behaves as a copy.\n",
      "\n",
      "For example, when doing 'df[col].method(value, inplace=True)', try using 'df.method({col: value}, inplace=True)' or df[col] = df[col].method(value) instead, to perform the operation inplace on the original object.\n",
      "\n",
      "\n",
      "  df[\"Age\"].clip(lower_limit,upper_limit,inplace=True)\n"
     ]
    }
   ],
   "source": [
    "# capping techniques\n",
    "df[\"Age\"].clip(lower_limit,upper_limit,inplace=True)"
   ]
  },
  {
   "cell_type": "code",
   "execution_count": 34,
   "metadata": {},
   "outputs": [
    {
     "data": {
      "text/plain": [
       "<Axes: ylabel='Age'>"
      ]
     },
     "execution_count": 34,
     "metadata": {},
     "output_type": "execute_result"
    },
    {
     "data": {
      "image/png": "[encoded data removed]",
      "text/plain": [
       "<Figure size 640x480 with 1 Axes>"
      ]
     },
     "metadata": {},
     "output_type": "display_data"
    }
   ],
   "source": [
    "sns.boxplot(df[\"Age\"])"
   ]
  },
  {
   "cell_type": "code",
   "execution_count": 35,
   "metadata": {},
   "outputs": [],
   "source": [
    "#order-status - nominal, marital-status - nominal\n",
    "#gender-nominal , employemnt_status - nominal\n",
    "#reviews - ordinal, monthly income - ordinal\n",
    "#educational_qualification - ordinal\n",
    "#target variable - to get predict\n"
   ]
  },
  {
   "cell_type": "markdown",
   "metadata": {},
   "source": [
    "ENCODING\n"
   ]
  },
  {
   "cell_type": "code",
   "execution_count": 36,
   "metadata": {},
   "outputs": [
    {
     "data": {
      "text/html": [
       "<div>\n",
       "<style scoped>\n",
       "    .dataframe tbody tr th:only-of-type {\n",
       "        vertical-align: middle;\n",
       "    }\n",
       "\n",
       "    .dataframe tbody tr th {\n",
       "        vertical-align: top;\n",
       "    }\n",
       "\n",
       "    .dataframe thead th {\n",
       "        text-align: right;\n",
       "    }\n",
       "</style>\n",
       "<table border=\"1\" class=\"dataframe\">\n",
       "  <thead>\n",
       "    <tr style=\"text-align: right;\">\n",
       "      <th></th>\n",
       "      <th>order_status</th>\n",
       "      <th>Monthly Income</th>\n",
       "      <th>latitude</th>\n",
       "      <th>Family size</th>\n",
       "      <th>Reviews</th>\n",
       "      <th>Pin code</th>\n",
       "      <th>Age</th>\n",
       "      <th>longitude</th>\n",
       "      <th>Educational Qualifications</th>\n",
       "      <th>Gender_Male</th>\n",
       "      <th>employment_status_House wife</th>\n",
       "      <th>employment_status_Self Employeed</th>\n",
       "      <th>employment_status_Student</th>\n",
       "      <th>Marital Status_Prefer not to say</th>\n",
       "      <th>Marital Status_Single</th>\n",
       "    </tr>\n",
       "  </thead>\n",
       "  <tbody>\n",
       "    <tr>\n",
       "      <th>0</th>\n",
       "      <td>Yes</td>\n",
       "      <td>25001 to 50000</td>\n",
       "      <td>13.0262</td>\n",
       "      <td>5.0</td>\n",
       "      <td>Positive</td>\n",
       "      <td>560045</td>\n",
       "      <td>28.0</td>\n",
       "      <td>77.6200</td>\n",
       "      <td>Post Graduate</td>\n",
       "      <td>1</td>\n",
       "      <td>0</td>\n",
       "      <td>0</td>\n",
       "      <td>0</td>\n",
       "      <td>0</td>\n",
       "      <td>0</td>\n",
       "    </tr>\n",
       "    <tr>\n",
       "      <th>1</th>\n",
       "      <td>Yes</td>\n",
       "      <td>No Income</td>\n",
       "      <td>12.9770</td>\n",
       "      <td>3.0</td>\n",
       "      <td>Positive</td>\n",
       "      <td>560009</td>\n",
       "      <td>24.0</td>\n",
       "      <td>77.5773</td>\n",
       "      <td>Post Graduate</td>\n",
       "      <td>1</td>\n",
       "      <td>0</td>\n",
       "      <td>0</td>\n",
       "      <td>1</td>\n",
       "      <td>0</td>\n",
       "      <td>1</td>\n",
       "    </tr>\n",
       "  </tbody>\n",
       "</table>\n",
       "</div>"
      ],
      "text/plain": [
       "  order_status  Monthly Income  latitude  Family size   Reviews  Pin code  \\\n",
       "0          Yes  25001 to 50000   13.0262          5.0  Positive    560045   \n",
       "1          Yes       No Income   12.9770          3.0  Positive    560009   \n",
       "\n",
       "    Age  longitude Educational Qualifications  Gender_Male  \\\n",
       "0  28.0    77.6200              Post Graduate            1   \n",
       "1  24.0    77.5773              Post Graduate            1   \n",
       "\n",
       "   employment_status_House wife  employment_status_Self Employeed  \\\n",
       "0                             0                                 0   \n",
       "1                             0                                 0   \n",
       "\n",
       "   employment_status_Student  Marital Status_Prefer not to say  \\\n",
       "0                          0                                 0   \n",
       "1                          1                                 0   \n",
       "\n",
       "   Marital Status_Single  \n",
       "0                      0  \n",
       "1                      1  "
      ]
     },
     "execution_count": 36,
     "metadata": {},
     "output_type": "execute_result"
    }
   ],
   "source": [
    "# Applying onehot encoding using pd.get_dummies function on nominal variables\n",
    "\n",
    "df=pd.get_dummies(df,columns=[\"Gender\",\"employment_status\",\"Marital Status\"],dtype=\"int64\",drop_first=True)\n",
    "df.head(2)"
   ]
  },
  {
   "cell_type": "markdown",
   "metadata": {},
   "source": [
    "# Applying ordinal encoding using map function from pandas\n",
    "# Monthly Income\n",
    "# Reviews\n",
    "# Education Qualifications\n",
    "df[\"Monthly Income\"].value_counts()"
   ]
  },
  {
   "cell_type": "code",
   "execution_count": 37,
   "metadata": {},
   "outputs": [],
   "source": [
    "d1 = {\"No Income\":1,\"Below Rs.10000\":2,\"10001 to 25000\":3,\"25001 to 50000\":4,\"More than 50000\":5}\n",
    "df[\"Monthly Income\"]=df[\"Monthly Income\"].str.strip()\n",
    "df[\"Monthly Income\"]=df[\"Monthly Income\"].map(d1)\n"
   ]
  },
  {
   "cell_type": "code",
   "execution_count": 38,
   "metadata": {},
   "outputs": [
    {
     "data": {
      "text/html": [
       "<div>\n",
       "<style scoped>\n",
       "    .dataframe tbody tr th:only-of-type {\n",
       "        vertical-align: middle;\n",
       "    }\n",
       "\n",
       "    .dataframe tbody tr th {\n",
       "        vertical-align: top;\n",
       "    }\n",
       "\n",
       "    .dataframe thead th {\n",
       "        text-align: right;\n",
       "    }\n",
       "</style>\n",
       "<table border=\"1\" class=\"dataframe\">\n",
       "  <thead>\n",
       "    <tr style=\"text-align: right;\">\n",
       "      <th></th>\n",
       "      <th>order_status</th>\n",
       "      <th>Monthly Income</th>\n",
       "      <th>latitude</th>\n",
       "      <th>Family size</th>\n",
       "      <th>Reviews</th>\n",
       "      <th>Pin code</th>\n",
       "      <th>Age</th>\n",
       "      <th>longitude</th>\n",
       "      <th>Educational Qualifications</th>\n",
       "      <th>Gender_Male</th>\n",
       "      <th>employment_status_House wife</th>\n",
       "      <th>employment_status_Self Employeed</th>\n",
       "      <th>employment_status_Student</th>\n",
       "      <th>Marital Status_Prefer not to say</th>\n",
       "      <th>Marital Status_Single</th>\n",
       "    </tr>\n",
       "  </thead>\n",
       "  <tbody>\n",
       "    <tr>\n",
       "      <th>0</th>\n",
       "      <td>Yes</td>\n",
       "      <td>4</td>\n",
       "      <td>13.0262</td>\n",
       "      <td>5.0</td>\n",
       "      <td>Positive</td>\n",
       "      <td>560045</td>\n",
       "      <td>28.0</td>\n",
       "      <td>77.6200</td>\n",
       "      <td>Post Graduate</td>\n",
       "      <td>1</td>\n",
       "      <td>0</td>\n",
       "      <td>0</td>\n",
       "      <td>0</td>\n",
       "      <td>0</td>\n",
       "      <td>0</td>\n",
       "    </tr>\n",
       "    <tr>\n",
       "      <th>1</th>\n",
       "      <td>Yes</td>\n",
       "      <td>1</td>\n",
       "      <td>12.9770</td>\n",
       "      <td>3.0</td>\n",
       "      <td>Positive</td>\n",
       "      <td>560009</td>\n",
       "      <td>24.0</td>\n",
       "      <td>77.5773</td>\n",
       "      <td>Post Graduate</td>\n",
       "      <td>1</td>\n",
       "      <td>0</td>\n",
       "      <td>0</td>\n",
       "      <td>1</td>\n",
       "      <td>0</td>\n",
       "      <td>1</td>\n",
       "    </tr>\n",
       "    <tr>\n",
       "      <th>2</th>\n",
       "      <td>Yes</td>\n",
       "      <td>1</td>\n",
       "      <td>12.9770</td>\n",
       "      <td>3.0</td>\n",
       "      <td>Positive</td>\n",
       "      <td>560009</td>\n",
       "      <td>24.0</td>\n",
       "      <td>77.5773</td>\n",
       "      <td>Post Graduate</td>\n",
       "      <td>0</td>\n",
       "      <td>0</td>\n",
       "      <td>0</td>\n",
       "      <td>1</td>\n",
       "      <td>0</td>\n",
       "      <td>1</td>\n",
       "    </tr>\n",
       "  </tbody>\n",
       "</table>\n",
       "</div>"
      ],
      "text/plain": [
       "  order_status  Monthly Income  latitude  Family size   Reviews  Pin code  \\\n",
       "0          Yes               4   13.0262          5.0  Positive    560045   \n",
       "1          Yes               1   12.9770          3.0  Positive    560009   \n",
       "2          Yes               1   12.9770          3.0  Positive    560009   \n",
       "\n",
       "    Age  longitude Educational Qualifications  Gender_Male  \\\n",
       "0  28.0    77.6200              Post Graduate            1   \n",
       "1  24.0    77.5773              Post Graduate            1   \n",
       "2  24.0    77.5773              Post Graduate            0   \n",
       "\n",
       "   employment_status_House wife  employment_status_Self Employeed  \\\n",
       "0                             0                                 0   \n",
       "1                             0                                 0   \n",
       "2                             0                                 0   \n",
       "\n",
       "   employment_status_Student  Marital Status_Prefer not to say  \\\n",
       "0                          0                                 0   \n",
       "1                          1                                 0   \n",
       "2                          1                                 0   \n",
       "\n",
       "   Marital Status_Single  \n",
       "0                      0  \n",
       "1                      1  \n",
       "2                      1  "
      ]
     },
     "execution_count": 38,
     "metadata": {},
     "output_type": "execute_result"
    }
   ],
   "source": [
    "df.head(3)"
   ]
  },
  {
   "cell_type": "code",
   "execution_count": 39,
   "metadata": {},
   "outputs": [
    {
     "data": {
      "text/plain": [
       "Reviews\n",
       "Positive    232\n",
       "Negative     55\n",
       "Name: count, dtype: int64"
      ]
     },
     "execution_count": 39,
     "metadata": {},
     "output_type": "execute_result"
    }
   ],
   "source": [
    "df[\"Reviews\"].value_counts()\n",
    "\n"
   ]
  },
  {
   "cell_type": "code",
   "execution_count": 40,
   "metadata": {},
   "outputs": [],
   "source": [
    "d2 = {\"Positive\":1,\"Negative\":0}\n",
    "df[\"Reviews\"]=df[\"Reviews\"].str.strip() # this is used to remove spaces from beginning and at the end of a name\n",
    "df[\"Reviews\"]=df[\"Reviews\"].map(d2)"
   ]
  },
  {
   "cell_type": "code",
   "execution_count": 41,
   "metadata": {},
   "outputs": [
    {
     "data": {
      "text/html": [
       "<div>\n",
       "<style scoped>\n",
       "    .dataframe tbody tr th:only-of-type {\n",
       "        vertical-align: middle;\n",
       "    }\n",
       "\n",
       "    .dataframe tbody tr th {\n",
       "        vertical-align: top;\n",
       "    }\n",
       "\n",
       "    .dataframe thead th {\n",
       "        text-align: right;\n",
       "    }\n",
       "</style>\n",
       "<table border=\"1\" class=\"dataframe\">\n",
       "  <thead>\n",
       "    <tr style=\"text-align: right;\">\n",
       "      <th></th>\n",
       "      <th>order_status</th>\n",
       "      <th>Monthly Income</th>\n",
       "      <th>latitude</th>\n",
       "      <th>Family size</th>\n",
       "      <th>Reviews</th>\n",
       "      <th>Pin code</th>\n",
       "      <th>Age</th>\n",
       "      <th>longitude</th>\n",
       "      <th>Educational Qualifications</th>\n",
       "      <th>Gender_Male</th>\n",
       "      <th>employment_status_House wife</th>\n",
       "      <th>employment_status_Self Employeed</th>\n",
       "      <th>employment_status_Student</th>\n",
       "      <th>Marital Status_Prefer not to say</th>\n",
       "      <th>Marital Status_Single</th>\n",
       "    </tr>\n",
       "  </thead>\n",
       "  <tbody>\n",
       "    <tr>\n",
       "      <th>0</th>\n",
       "      <td>Yes</td>\n",
       "      <td>4</td>\n",
       "      <td>13.0262</td>\n",
       "      <td>5.0</td>\n",
       "      <td>1</td>\n",
       "      <td>560045</td>\n",
       "      <td>28.0</td>\n",
       "      <td>77.6200</td>\n",
       "      <td>Post Graduate</td>\n",
       "      <td>1</td>\n",
       "      <td>0</td>\n",
       "      <td>0</td>\n",
       "      <td>0</td>\n",
       "      <td>0</td>\n",
       "      <td>0</td>\n",
       "    </tr>\n",
       "    <tr>\n",
       "      <th>1</th>\n",
       "      <td>Yes</td>\n",
       "      <td>1</td>\n",
       "      <td>12.9770</td>\n",
       "      <td>3.0</td>\n",
       "      <td>1</td>\n",
       "      <td>560009</td>\n",
       "      <td>24.0</td>\n",
       "      <td>77.5773</td>\n",
       "      <td>Post Graduate</td>\n",
       "      <td>1</td>\n",
       "      <td>0</td>\n",
       "      <td>0</td>\n",
       "      <td>1</td>\n",
       "      <td>0</td>\n",
       "      <td>1</td>\n",
       "    </tr>\n",
       "  </tbody>\n",
       "</table>\n",
       "</div>"
      ],
      "text/plain": [
       "  order_status  Monthly Income  latitude  Family size  Reviews  Pin code  \\\n",
       "0          Yes               4   13.0262          5.0        1    560045   \n",
       "1          Yes               1   12.9770          3.0        1    560009   \n",
       "\n",
       "    Age  longitude Educational Qualifications  Gender_Male  \\\n",
       "0  28.0    77.6200              Post Graduate            1   \n",
       "1  24.0    77.5773              Post Graduate            1   \n",
       "\n",
       "   employment_status_House wife  employment_status_Self Employeed  \\\n",
       "0                             0                                 0   \n",
       "1                             0                                 0   \n",
       "\n",
       "   employment_status_Student  Marital Status_Prefer not to say  \\\n",
       "0                          0                                 0   \n",
       "1                          1                                 0   \n",
       "\n",
       "   Marital Status_Single  \n",
       "0                      0  \n",
       "1                      1  "
      ]
     },
     "execution_count": 41,
     "metadata": {},
     "output_type": "execute_result"
    }
   ],
   "source": [
    "df.head(2)"
   ]
  },
  {
   "cell_type": "code",
   "execution_count": 57,
   "metadata": {},
   "outputs": [
    {
     "data": {
      "text/plain": [
       "Educational Qualifications\n",
       "Graduate         129\n",
       "Post Graduate    124\n",
       "Ph.D              21\n",
       "School            11\n",
       "Uneducated         2\n",
       "Name: count, dtype: int64"
      ]
     },
     "execution_count": 57,
     "metadata": {},
     "output_type": "execute_result"
    }
   ],
   "source": [
    "df[\"Educational Qualifications\"].value_counts()"
   ]
  },
  {
   "cell_type": "code",
   "execution_count": 58,
   "metadata": {},
   "outputs": [
    {
     "data": {
      "text/html": [
       "<div>\n",
       "<style scoped>\n",
       "    .dataframe tbody tr th:only-of-type {\n",
       "        vertical-align: middle;\n",
       "    }\n",
       "\n",
       "    .dataframe tbody tr th {\n",
       "        vertical-align: top;\n",
       "    }\n",
       "\n",
       "    .dataframe thead th {\n",
       "        text-align: right;\n",
       "    }\n",
       "</style>\n",
       "<table border=\"1\" class=\"dataframe\">\n",
       "  <thead>\n",
       "    <tr style=\"text-align: right;\">\n",
       "      <th></th>\n",
       "      <th>order_status</th>\n",
       "      <th>Monthly Income</th>\n",
       "      <th>latitude</th>\n",
       "      <th>Family size</th>\n",
       "      <th>Reviews</th>\n",
       "      <th>Pin code</th>\n",
       "      <th>Age</th>\n",
       "      <th>longitude</th>\n",
       "      <th>Educational Qualifications</th>\n",
       "      <th>Gender_Male</th>\n",
       "      <th>employment_status_House wife</th>\n",
       "      <th>employment_status_Self Employeed</th>\n",
       "      <th>employment_status_Student</th>\n",
       "      <th>Marital Status_Prefer not to say</th>\n",
       "      <th>Marital Status_Single</th>\n",
       "    </tr>\n",
       "  </thead>\n",
       "  <tbody>\n",
       "    <tr>\n",
       "      <th>0</th>\n",
       "      <td>Yes</td>\n",
       "      <td>4</td>\n",
       "      <td>13.0262</td>\n",
       "      <td>5.0</td>\n",
       "      <td>1</td>\n",
       "      <td>560045</td>\n",
       "      <td>28.0</td>\n",
       "      <td>77.6200</td>\n",
       "      <td>3</td>\n",
       "      <td>1</td>\n",
       "      <td>0</td>\n",
       "      <td>0</td>\n",
       "      <td>0</td>\n",
       "      <td>0</td>\n",
       "      <td>0</td>\n",
       "    </tr>\n",
       "    <tr>\n",
       "      <th>1</th>\n",
       "      <td>Yes</td>\n",
       "      <td>1</td>\n",
       "      <td>12.9770</td>\n",
       "      <td>3.0</td>\n",
       "      <td>1</td>\n",
       "      <td>560009</td>\n",
       "      <td>24.0</td>\n",
       "      <td>77.5773</td>\n",
       "      <td>3</td>\n",
       "      <td>1</td>\n",
       "      <td>0</td>\n",
       "      <td>0</td>\n",
       "      <td>1</td>\n",
       "      <td>0</td>\n",
       "      <td>1</td>\n",
       "    </tr>\n",
       "    <tr>\n",
       "      <th>2</th>\n",
       "      <td>Yes</td>\n",
       "      <td>1</td>\n",
       "      <td>12.9770</td>\n",
       "      <td>3.0</td>\n",
       "      <td>1</td>\n",
       "      <td>560009</td>\n",
       "      <td>24.0</td>\n",
       "      <td>77.5773</td>\n",
       "      <td>3</td>\n",
       "      <td>0</td>\n",
       "      <td>0</td>\n",
       "      <td>0</td>\n",
       "      <td>1</td>\n",
       "      <td>0</td>\n",
       "      <td>1</td>\n",
       "    </tr>\n",
       "    <tr>\n",
       "      <th>3</th>\n",
       "      <td>Yes</td>\n",
       "      <td>1</td>\n",
       "      <td>13.0019</td>\n",
       "      <td>3.0</td>\n",
       "      <td>1</td>\n",
       "      <td>560003</td>\n",
       "      <td>24.0</td>\n",
       "      <td>77.5713</td>\n",
       "      <td>3</td>\n",
       "      <td>0</td>\n",
       "      <td>0</td>\n",
       "      <td>0</td>\n",
       "      <td>1</td>\n",
       "      <td>0</td>\n",
       "      <td>1</td>\n",
       "    </tr>\n",
       "    <tr>\n",
       "      <th>4</th>\n",
       "      <td>Yes</td>\n",
       "      <td>5</td>\n",
       "      <td>13.0626</td>\n",
       "      <td>3.0</td>\n",
       "      <td>1</td>\n",
       "      <td>560015</td>\n",
       "      <td>24.0</td>\n",
       "      <td>77.5284</td>\n",
       "      <td>1</td>\n",
       "      <td>1</td>\n",
       "      <td>0</td>\n",
       "      <td>1</td>\n",
       "      <td>0</td>\n",
       "      <td>0</td>\n",
       "      <td>0</td>\n",
       "    </tr>\n",
       "  </tbody>\n",
       "</table>\n",
       "</div>"
      ],
      "text/plain": [
       "  order_status  Monthly Income  latitude  Family size  Reviews  Pin code  \\\n",
       "0          Yes               4   13.0262          5.0        1    560045   \n",
       "1          Yes               1   12.9770          3.0        1    560009   \n",
       "2          Yes               1   12.9770          3.0        1    560009   \n",
       "3          Yes               1   13.0019          3.0        1    560003   \n",
       "4          Yes               5   13.0626          3.0        1    560015   \n",
       "\n",
       "    Age  longitude  Educational Qualifications  Gender_Male  \\\n",
       "0  28.0    77.6200                           3            1   \n",
       "1  24.0    77.5773                           3            1   \n",
       "2  24.0    77.5773                           3            0   \n",
       "3  24.0    77.5713                           3            0   \n",
       "4  24.0    77.5284                           1            1   \n",
       "\n",
       "   employment_status_House wife  employment_status_Self Employeed  \\\n",
       "0                             0                                 0   \n",
       "1                             0                                 0   \n",
       "2                             0                                 0   \n",
       "3                             0                                 0   \n",
       "4                             0                                 1   \n",
       "\n",
       "   employment_status_Student  Marital Status_Prefer not to say  \\\n",
       "0                          0                                 0   \n",
       "1                          1                                 0   \n",
       "2                          1                                 0   \n",
       "3                          1                                 0   \n",
       "4                          0                                 0   \n",
       "\n",
       "   Marital Status_Single  \n",
       "0                      0  \n",
       "1                      1  \n",
       "2                      1  \n",
       "3                      1  \n",
       "4                      0  "
      ]
     },
     "execution_count": 58,
     "metadata": {},
     "output_type": "execute_result"
    }
   ],
   "source": [
    "d3 = {\"Uneducated\":0, \"School\":1, \"Graduate\":2, \"Post Graduate\":3, \"Ph.D\":4}\n",
    "df[\"Educational Qualifications\"]=df[\"Educational Qualifications\"].str.strip()\n",
    "df[\"Educational Qualifications\"]=df[\"Educational Qualifications\"].map(d3)\n",
    "df.head()\n"
   ]
  },
  {
   "cell_type": "code",
   "execution_count": 59,
   "metadata": {},
   "outputs": [
    {
     "data": {
      "text/plain": [
       "order_status\n",
       "Yes    218\n",
       "No      69\n",
       "Name: count, dtype: int64"
      ]
     },
     "execution_count": 59,
     "metadata": {},
     "output_type": "execute_result"
    }
   ],
   "source": [
    "df[\"order_status\"].value_counts()"
   ]
  },
  {
   "cell_type": "code",
   "execution_count": 60,
   "metadata": {},
   "outputs": [],
   "source": [
    "d4 = {\"Yes\":1, \"No\":0}\n",
    "df[\"order_status\"]=df[\"order_status\"].map(d4)"
   ]
  },
  {
   "cell_type": "code",
   "execution_count": 61,
   "metadata": {},
   "outputs": [
    {
     "data": {
      "text/html": [
       "<div>\n",
       "<style scoped>\n",
       "    .dataframe tbody tr th:only-of-type {\n",
       "        vertical-align: middle;\n",
       "    }\n",
       "\n",
       "    .dataframe tbody tr th {\n",
       "        vertical-align: top;\n",
       "    }\n",
       "\n",
       "    .dataframe thead th {\n",
       "        text-align: right;\n",
       "    }\n",
       "</style>\n",
       "<table border=\"1\" class=\"dataframe\">\n",
       "  <thead>\n",
       "    <tr style=\"text-align: right;\">\n",
       "      <th></th>\n",
       "      <th>order_status</th>\n",
       "      <th>Monthly Income</th>\n",
       "      <th>latitude</th>\n",
       "      <th>Family size</th>\n",
       "      <th>Reviews</th>\n",
       "      <th>Pin code</th>\n",
       "      <th>Age</th>\n",
       "      <th>longitude</th>\n",
       "      <th>Educational Qualifications</th>\n",
       "      <th>Gender_Male</th>\n",
       "      <th>employment_status_House wife</th>\n",
       "      <th>employment_status_Self Employeed</th>\n",
       "      <th>employment_status_Student</th>\n",
       "      <th>Marital Status_Prefer not to say</th>\n",
       "      <th>Marital Status_Single</th>\n",
       "    </tr>\n",
       "  </thead>\n",
       "  <tbody>\n",
       "    <tr>\n",
       "      <th>0</th>\n",
       "      <td>1</td>\n",
       "      <td>4</td>\n",
       "      <td>13.0262</td>\n",
       "      <td>5.0</td>\n",
       "      <td>1</td>\n",
       "      <td>560045</td>\n",
       "      <td>28.0</td>\n",
       "      <td>77.6200</td>\n",
       "      <td>3</td>\n",
       "      <td>1</td>\n",
       "      <td>0</td>\n",
       "      <td>0</td>\n",
       "      <td>0</td>\n",
       "      <td>0</td>\n",
       "      <td>0</td>\n",
       "    </tr>\n",
       "    <tr>\n",
       "      <th>1</th>\n",
       "      <td>1</td>\n",
       "      <td>1</td>\n",
       "      <td>12.9770</td>\n",
       "      <td>3.0</td>\n",
       "      <td>1</td>\n",
       "      <td>560009</td>\n",
       "      <td>24.0</td>\n",
       "      <td>77.5773</td>\n",
       "      <td>3</td>\n",
       "      <td>1</td>\n",
       "      <td>0</td>\n",
       "      <td>0</td>\n",
       "      <td>1</td>\n",
       "      <td>0</td>\n",
       "      <td>1</td>\n",
       "    </tr>\n",
       "    <tr>\n",
       "      <th>2</th>\n",
       "      <td>1</td>\n",
       "      <td>1</td>\n",
       "      <td>12.9770</td>\n",
       "      <td>3.0</td>\n",
       "      <td>1</td>\n",
       "      <td>560009</td>\n",
       "      <td>24.0</td>\n",
       "      <td>77.5773</td>\n",
       "      <td>3</td>\n",
       "      <td>0</td>\n",
       "      <td>0</td>\n",
       "      <td>0</td>\n",
       "      <td>1</td>\n",
       "      <td>0</td>\n",
       "      <td>1</td>\n",
       "    </tr>\n",
       "    <tr>\n",
       "      <th>3</th>\n",
       "      <td>1</td>\n",
       "      <td>1</td>\n",
       "      <td>13.0019</td>\n",
       "      <td>3.0</td>\n",
       "      <td>1</td>\n",
       "      <td>560003</td>\n",
       "      <td>24.0</td>\n",
       "      <td>77.5713</td>\n",
       "      <td>3</td>\n",
       "      <td>0</td>\n",
       "      <td>0</td>\n",
       "      <td>0</td>\n",
       "      <td>1</td>\n",
       "      <td>0</td>\n",
       "      <td>1</td>\n",
       "    </tr>\n",
       "    <tr>\n",
       "      <th>4</th>\n",
       "      <td>1</td>\n",
       "      <td>5</td>\n",
       "      <td>13.0626</td>\n",
       "      <td>3.0</td>\n",
       "      <td>1</td>\n",
       "      <td>560015</td>\n",
       "      <td>24.0</td>\n",
       "      <td>77.5284</td>\n",
       "      <td>1</td>\n",
       "      <td>1</td>\n",
       "      <td>0</td>\n",
       "      <td>1</td>\n",
       "      <td>0</td>\n",
       "      <td>0</td>\n",
       "      <td>0</td>\n",
       "    </tr>\n",
       "  </tbody>\n",
       "</table>\n",
       "</div>"
      ],
      "text/plain": [
       "   order_status  Monthly Income  latitude  Family size  Reviews  Pin code  \\\n",
       "0             1               4   13.0262          5.0        1    560045   \n",
       "1             1               1   12.9770          3.0        1    560009   \n",
       "2             1               1   12.9770          3.0        1    560009   \n",
       "3             1               1   13.0019          3.0        1    560003   \n",
       "4             1               5   13.0626          3.0        1    560015   \n",
       "\n",
       "    Age  longitude  Educational Qualifications  Gender_Male  \\\n",
       "0  28.0    77.6200                           3            1   \n",
       "1  24.0    77.5773                           3            1   \n",
       "2  24.0    77.5773                           3            0   \n",
       "3  24.0    77.5713                           3            0   \n",
       "4  24.0    77.5284                           1            1   \n",
       "\n",
       "   employment_status_House wife  employment_status_Self Employeed  \\\n",
       "0                             0                                 0   \n",
       "1                             0                                 0   \n",
       "2                             0                                 0   \n",
       "3                             0                                 0   \n",
       "4                             0                                 1   \n",
       "\n",
       "   employment_status_Student  Marital Status_Prefer not to say  \\\n",
       "0                          0                                 0   \n",
       "1                          1                                 0   \n",
       "2                          1                                 0   \n",
       "3                          1                                 0   \n",
       "4                          0                                 0   \n",
       "\n",
       "   Marital Status_Single  \n",
       "0                      0  \n",
       "1                      1  \n",
       "2                      1  \n",
       "3                      1  \n",
       "4                      0  "
      ]
     },
     "execution_count": 61,
     "metadata": {},
     "output_type": "execute_result"
    }
   ],
   "source": [
    "df.head()"
   ]
  },
  {
   "cell_type": "code",
   "execution_count": 62,
   "metadata": {},
   "outputs": [],
   "source": [
    "# Applying Feature Scaling using Normalization and Standardization\n",
    "df_norm = df.copy()\n",
    "df_stand= df.copy()"
   ]
  },
  {
   "cell_type": "code",
   "execution_count": 63,
   "metadata": {},
   "outputs": [
    {
     "data": {
      "text/html": [
       "<div>\n",
       "<style scoped>\n",
       "    .dataframe tbody tr th:only-of-type {\n",
       "        vertical-align: middle;\n",
       "    }\n",
       "\n",
       "    .dataframe tbody tr th {\n",
       "        vertical-align: top;\n",
       "    }\n",
       "\n",
       "    .dataframe thead th {\n",
       "        text-align: right;\n",
       "    }\n",
       "</style>\n",
       "<table border=\"1\" class=\"dataframe\">\n",
       "  <thead>\n",
       "    <tr style=\"text-align: right;\">\n",
       "      <th></th>\n",
       "      <th>order_status</th>\n",
       "      <th>Monthly Income</th>\n",
       "      <th>latitude</th>\n",
       "      <th>Family size</th>\n",
       "      <th>Reviews</th>\n",
       "      <th>Pin code</th>\n",
       "      <th>Age</th>\n",
       "      <th>longitude</th>\n",
       "      <th>Educational Qualifications</th>\n",
       "      <th>Gender_Male</th>\n",
       "      <th>employment_status_House wife</th>\n",
       "      <th>employment_status_Self Employeed</th>\n",
       "      <th>employment_status_Student</th>\n",
       "      <th>Marital Status_Prefer not to say</th>\n",
       "      <th>Marital Status_Single</th>\n",
       "    </tr>\n",
       "  </thead>\n",
       "  <tbody>\n",
       "    <tr>\n",
       "      <th>0</th>\n",
       "      <td>1</td>\n",
       "      <td>4</td>\n",
       "      <td>13.0262</td>\n",
       "      <td>5.0</td>\n",
       "      <td>1</td>\n",
       "      <td>560045</td>\n",
       "      <td>28.0</td>\n",
       "      <td>77.6200</td>\n",
       "      <td>3</td>\n",
       "      <td>1</td>\n",
       "      <td>0</td>\n",
       "      <td>0</td>\n",
       "      <td>0</td>\n",
       "      <td>0</td>\n",
       "      <td>0</td>\n",
       "    </tr>\n",
       "    <tr>\n",
       "      <th>1</th>\n",
       "      <td>1</td>\n",
       "      <td>1</td>\n",
       "      <td>12.9770</td>\n",
       "      <td>3.0</td>\n",
       "      <td>1</td>\n",
       "      <td>560009</td>\n",
       "      <td>24.0</td>\n",
       "      <td>77.5773</td>\n",
       "      <td>3</td>\n",
       "      <td>1</td>\n",
       "      <td>0</td>\n",
       "      <td>0</td>\n",
       "      <td>1</td>\n",
       "      <td>0</td>\n",
       "      <td>1</td>\n",
       "    </tr>\n",
       "    <tr>\n",
       "      <th>2</th>\n",
       "      <td>1</td>\n",
       "      <td>1</td>\n",
       "      <td>12.9770</td>\n",
       "      <td>3.0</td>\n",
       "      <td>1</td>\n",
       "      <td>560009</td>\n",
       "      <td>24.0</td>\n",
       "      <td>77.5773</td>\n",
       "      <td>3</td>\n",
       "      <td>0</td>\n",
       "      <td>0</td>\n",
       "      <td>0</td>\n",
       "      <td>1</td>\n",
       "      <td>0</td>\n",
       "      <td>1</td>\n",
       "    </tr>\n",
       "    <tr>\n",
       "      <th>3</th>\n",
       "      <td>1</td>\n",
       "      <td>1</td>\n",
       "      <td>13.0019</td>\n",
       "      <td>3.0</td>\n",
       "      <td>1</td>\n",
       "      <td>560003</td>\n",
       "      <td>24.0</td>\n",
       "      <td>77.5713</td>\n",
       "      <td>3</td>\n",
       "      <td>0</td>\n",
       "      <td>0</td>\n",
       "      <td>0</td>\n",
       "      <td>1</td>\n",
       "      <td>0</td>\n",
       "      <td>1</td>\n",
       "    </tr>\n",
       "    <tr>\n",
       "      <th>4</th>\n",
       "      <td>1</td>\n",
       "      <td>5</td>\n",
       "      <td>13.0626</td>\n",
       "      <td>3.0</td>\n",
       "      <td>1</td>\n",
       "      <td>560015</td>\n",
       "      <td>24.0</td>\n",
       "      <td>77.5284</td>\n",
       "      <td>1</td>\n",
       "      <td>1</td>\n",
       "      <td>0</td>\n",
       "      <td>1</td>\n",
       "      <td>0</td>\n",
       "      <td>0</td>\n",
       "      <td>0</td>\n",
       "    </tr>\n",
       "  </tbody>\n",
       "</table>\n",
       "</div>"
      ],
      "text/plain": [
       "   order_status  Monthly Income  latitude  Family size  Reviews  Pin code  \\\n",
       "0             1               4   13.0262          5.0        1    560045   \n",
       "1             1               1   12.9770          3.0        1    560009   \n",
       "2             1               1   12.9770          3.0        1    560009   \n",
       "3             1               1   13.0019          3.0        1    560003   \n",
       "4             1               5   13.0626          3.0        1    560015   \n",
       "\n",
       "    Age  longitude  Educational Qualifications  Gender_Male  \\\n",
       "0  28.0    77.6200                           3            1   \n",
       "1  24.0    77.5773                           3            1   \n",
       "2  24.0    77.5773                           3            0   \n",
       "3  24.0    77.5713                           3            0   \n",
       "4  24.0    77.5284                           1            1   \n",
       "\n",
       "   employment_status_House wife  employment_status_Self Employeed  \\\n",
       "0                             0                                 0   \n",
       "1                             0                                 0   \n",
       "2                             0                                 0   \n",
       "3                             0                                 0   \n",
       "4                             0                                 1   \n",
       "\n",
       "   employment_status_Student  Marital Status_Prefer not to say  \\\n",
       "0                          0                                 0   \n",
       "1                          1                                 0   \n",
       "2                          1                                 0   \n",
       "3                          1                                 0   \n",
       "4                          0                                 0   \n",
       "\n",
       "   Marital Status_Single  \n",
       "0                      0  \n",
       "1                      1  \n",
       "2                      1  \n",
       "3                      1  \n",
       "4                      0  "
      ]
     },
     "execution_count": 63,
     "metadata": {},
     "output_type": "execute_result"
    }
   ],
   "source": [
    "df_norm.head()"
   ]
  },
  {
   "cell_type": "code",
   "execution_count": 47,
   "metadata": {},
   "outputs": [
    {
     "name": "stdout",
     "output_type": "stream",
     "text": [
      "Collecting scikit-learnNote: you may need to restart the kernel to use updated packages.\n",
      "\n",
      "  Using cached scikit_learn-1.5.2-cp311-cp311-win_amd64.whl.metadata (13 kB)\n",
      "Requirement already satisfied: numpy>=1.19.5 in c:\\users\\aparna\\appdata\\local\\packages\\pythonsoftwarefoundation.python.3.11_qbz5n2kfra8p0\\localcache\\local-packages\\python311\\site-packages (from scikit-learn) (2.1.1)\n",
      "Collecting scipy>=1.6.0 (from scikit-learn)\n",
      "  Using cached scipy-1.14.1-cp311-cp311-win_amd64.whl.metadata (60 kB)\n",
      "Collecting joblib>=1.2.0 (from scikit-learn)\n",
      "  Using cached joblib-1.4.2-py3-none-any.whl.metadata (5.4 kB)\n",
      "Collecting threadpoolctl>=3.1.0 (from scikit-learn)\n",
      "  Using cached threadpoolctl-3.5.0-py3-none-any.whl.metadata (13 kB)\n",
      "Using cached scikit_learn-1.5.2-cp311-cp311-win_amd64.whl (11.0 MB)\n",
      "Using cached joblib-1.4.2-py3-none-any.whl (301 kB)\n",
      "Using cached scipy-1.14.1-cp311-cp311-win_amd64.whl (44.8 MB)\n",
      "Using cached threadpoolctl-3.5.0-py3-none-any.whl (18 kB)\n",
      "Installing collected packages: threadpoolctl, scipy, joblib, scikit-learn\n",
      "Successfully installed joblib-1.4.2 scikit-learn-1.5.2 scipy-1.14.1 threadpoolctl-3.5.0\n"
     ]
    },
    {
     "name": "stderr",
     "output_type": "stream",
     "text": [
      "\n",
      "[notice] A new release of pip is available: 24.0 -> 24.2\n",
      "[notice] To update, run: C:\\Users\\APARNA\\AppData\\Local\\Microsoft\\WindowsApps\\PythonSoftwareFoundation.Python.3.11_qbz5n2kfra8p0\\python.exe -m pip install --upgrade pip\n"
     ]
    }
   ],
   "source": [
    "pip install scikit-learn"
   ]
  },
  {
   "cell_type": "markdown",
   "metadata": {},
   "source": [
    "Normalization"
   ]
  },
  {
   "cell_type": "code",
   "execution_count": 64,
   "metadata": {},
   "outputs": [],
   "source": [
    "# Normalization\n",
    "from sklearn.preprocessing import MinMaxScaler # Normalization\n",
    "mm=MinMaxScaler()\n"
   ]
  },
  {
   "cell_type": "code",
   "execution_count": 65,
   "metadata": {},
   "outputs": [],
   "source": [
    "scaled=mm.fit_transform(df_norm)\n"
   ]
  },
  {
   "cell_type": "code",
   "execution_count": 66,
   "metadata": {},
   "outputs": [
    {
     "data": {
      "text/plain": [
       "Index(['order_status', 'Monthly Income', 'latitude', 'Family size', 'Reviews',\n",
       "       'Pin code', 'Age', 'longitude', 'Educational Qualifications',\n",
       "       'Gender_Male', 'employment_status_House wife',\n",
       "       'employment_status_Self Employeed', 'employment_status_Student',\n",
       "       'Marital Status_Prefer not to say', 'Marital Status_Single'],\n",
       "      dtype='object')"
      ]
     },
     "execution_count": 66,
     "metadata": {},
     "output_type": "execute_result"
    }
   ],
   "source": [
    "df.columns"
   ]
  },
  {
   "cell_type": "code",
   "execution_count": 67,
   "metadata": {},
   "outputs": [
    {
     "data": {
      "text/html": [
       "<div>\n",
       "<style scoped>\n",
       "    .dataframe tbody tr th:only-of-type {\n",
       "        vertical-align: middle;\n",
       "    }\n",
       "\n",
       "    .dataframe tbody tr th {\n",
       "        vertical-align: top;\n",
       "    }\n",
       "\n",
       "    .dataframe thead th {\n",
       "        text-align: right;\n",
       "    }\n",
       "</style>\n",
       "<table border=\"1\" class=\"dataframe\">\n",
       "  <thead>\n",
       "    <tr style=\"text-align: right;\">\n",
       "      <th></th>\n",
       "      <th>order_status</th>\n",
       "      <th>Monthly Income</th>\n",
       "      <th>latitude</th>\n",
       "      <th>Family size</th>\n",
       "      <th>Reviews</th>\n",
       "      <th>Pin code</th>\n",
       "      <th>Age</th>\n",
       "      <th>longitude</th>\n",
       "      <th>Educational Qualifications</th>\n",
       "      <th>Gender_Male</th>\n",
       "      <th>employment_status_House wife</th>\n",
       "      <th>employment_status_Self Employeed</th>\n",
       "      <th>employment_status_Student</th>\n",
       "      <th>Marital Status_Prefer not to say</th>\n",
       "      <th>Marital Status_Single</th>\n",
       "    </tr>\n",
       "  </thead>\n",
       "  <tbody>\n",
       "    <tr>\n",
       "      <th>0</th>\n",
       "      <td>1.0</td>\n",
       "      <td>0.75</td>\n",
       "      <td>0.679899</td>\n",
       "      <td>0.8</td>\n",
       "      <td>1.0</td>\n",
       "      <td>0.407407</td>\n",
       "      <td>0.791667</td>\n",
       "      <td>0.495620</td>\n",
       "      <td>0.75</td>\n",
       "      <td>1.0</td>\n",
       "      <td>0.0</td>\n",
       "      <td>0.0</td>\n",
       "      <td>0.0</td>\n",
       "      <td>0.0</td>\n",
       "      <td>0.0</td>\n",
       "    </tr>\n",
       "    <tr>\n",
       "      <th>1</th>\n",
       "      <td>1.0</td>\n",
       "      <td>0.00</td>\n",
       "      <td>0.472128</td>\n",
       "      <td>0.4</td>\n",
       "      <td>1.0</td>\n",
       "      <td>0.074074</td>\n",
       "      <td>0.458333</td>\n",
       "      <td>0.339781</td>\n",
       "      <td>0.75</td>\n",
       "      <td>1.0</td>\n",
       "      <td>0.0</td>\n",
       "      <td>0.0</td>\n",
       "      <td>1.0</td>\n",
       "      <td>0.0</td>\n",
       "      <td>1.0</td>\n",
       "    </tr>\n",
       "    <tr>\n",
       "      <th>2</th>\n",
       "      <td>1.0</td>\n",
       "      <td>0.00</td>\n",
       "      <td>0.472128</td>\n",
       "      <td>0.4</td>\n",
       "      <td>1.0</td>\n",
       "      <td>0.074074</td>\n",
       "      <td>0.458333</td>\n",
       "      <td>0.339781</td>\n",
       "      <td>0.75</td>\n",
       "      <td>0.0</td>\n",
       "      <td>0.0</td>\n",
       "      <td>0.0</td>\n",
       "      <td>1.0</td>\n",
       "      <td>0.0</td>\n",
       "      <td>1.0</td>\n",
       "    </tr>\n",
       "    <tr>\n",
       "      <th>3</th>\n",
       "      <td>1.0</td>\n",
       "      <td>0.00</td>\n",
       "      <td>0.577280</td>\n",
       "      <td>0.4</td>\n",
       "      <td>1.0</td>\n",
       "      <td>0.018519</td>\n",
       "      <td>0.458333</td>\n",
       "      <td>0.317883</td>\n",
       "      <td>0.75</td>\n",
       "      <td>0.0</td>\n",
       "      <td>0.0</td>\n",
       "      <td>0.0</td>\n",
       "      <td>1.0</td>\n",
       "      <td>0.0</td>\n",
       "      <td>1.0</td>\n",
       "    </tr>\n",
       "    <tr>\n",
       "      <th>4</th>\n",
       "      <td>1.0</td>\n",
       "      <td>1.00</td>\n",
       "      <td>0.833615</td>\n",
       "      <td>0.4</td>\n",
       "      <td>1.0</td>\n",
       "      <td>0.129630</td>\n",
       "      <td>0.458333</td>\n",
       "      <td>0.161314</td>\n",
       "      <td>0.25</td>\n",
       "      <td>1.0</td>\n",
       "      <td>0.0</td>\n",
       "      <td>1.0</td>\n",
       "      <td>0.0</td>\n",
       "      <td>0.0</td>\n",
       "      <td>0.0</td>\n",
       "    </tr>\n",
       "  </tbody>\n",
       "</table>\n",
       "</div>"
      ],
      "text/plain": [
       "   order_status  Monthly Income  latitude  Family size  Reviews  Pin code  \\\n",
       "0           1.0            0.75  0.679899          0.8      1.0  0.407407   \n",
       "1           1.0            0.00  0.472128          0.4      1.0  0.074074   \n",
       "2           1.0            0.00  0.472128          0.4      1.0  0.074074   \n",
       "3           1.0            0.00  0.577280          0.4      1.0  0.018519   \n",
       "4           1.0            1.00  0.833615          0.4      1.0  0.129630   \n",
       "\n",
       "        Age  longitude  Educational Qualifications  Gender_Male  \\\n",
       "0  0.791667   0.495620                        0.75          1.0   \n",
       "1  0.458333   0.339781                        0.75          1.0   \n",
       "2  0.458333   0.339781                        0.75          0.0   \n",
       "3  0.458333   0.317883                        0.75          0.0   \n",
       "4  0.458333   0.161314                        0.25          1.0   \n",
       "\n",
       "   employment_status_House wife  employment_status_Self Employeed  \\\n",
       "0                           0.0                               0.0   \n",
       "1                           0.0                               0.0   \n",
       "2                           0.0                               0.0   \n",
       "3                           0.0                               0.0   \n",
       "4                           0.0                               1.0   \n",
       "\n",
       "   employment_status_Student  Marital Status_Prefer not to say  \\\n",
       "0                        0.0                               0.0   \n",
       "1                        1.0                               0.0   \n",
       "2                        1.0                               0.0   \n",
       "3                        1.0                               0.0   \n",
       "4                        0.0                               0.0   \n",
       "\n",
       "   Marital Status_Single  \n",
       "0                    0.0  \n",
       "1                    1.0  \n",
       "2                    1.0  \n",
       "3                    1.0  \n",
       "4                    0.0  "
      ]
     },
     "execution_count": 67,
     "metadata": {},
     "output_type": "execute_result"
    }
   ],
   "source": [
    "new_df_normalized=pd.DataFrame(scaled,columns=df_norm.columns)\n",
    "new_df_normalized.head()"
   ]
  },
  {
   "cell_type": "markdown",
   "metadata": {},
   "source": [
    "Standardization"
   ]
  },
  {
   "cell_type": "code",
   "execution_count": 68,
   "metadata": {},
   "outputs": [
    {
     "data": {
      "text/html": [
       "<div>\n",
       "<style scoped>\n",
       "    .dataframe tbody tr th:only-of-type {\n",
       "        vertical-align: middle;\n",
       "    }\n",
       "\n",
       "    .dataframe tbody tr th {\n",
       "        vertical-align: top;\n",
       "    }\n",
       "\n",
       "    .dataframe thead th {\n",
       "        text-align: right;\n",
       "    }\n",
       "</style>\n",
       "<table border=\"1\" class=\"dataframe\">\n",
       "  <thead>\n",
       "    <tr style=\"text-align: right;\">\n",
       "      <th></th>\n",
       "      <th>order_status</th>\n",
       "      <th>Monthly Income</th>\n",
       "      <th>latitude</th>\n",
       "      <th>Family size</th>\n",
       "      <th>Reviews</th>\n",
       "      <th>Pin code</th>\n",
       "      <th>Age</th>\n",
       "      <th>longitude</th>\n",
       "      <th>Educational Qualifications</th>\n",
       "      <th>Gender_Male</th>\n",
       "      <th>employment_status_House wife</th>\n",
       "      <th>employment_status_Self Employeed</th>\n",
       "      <th>employment_status_Student</th>\n",
       "      <th>Marital Status_Prefer not to say</th>\n",
       "      <th>Marital Status_Single</th>\n",
       "    </tr>\n",
       "  </thead>\n",
       "  <tbody>\n",
       "    <tr>\n",
       "      <th>0</th>\n",
       "      <td>0.562596</td>\n",
       "      <td>0.928660</td>\n",
       "      <td>1.206987</td>\n",
       "      <td>1.301837</td>\n",
       "      <td>0.486897</td>\n",
       "      <td>0.241013</td>\n",
       "      <td>1.238997</td>\n",
       "      <td>0.417693</td>\n",
       "      <td>0.660880</td>\n",
       "      <td>0.859880</td>\n",
       "      <td>-0.179928</td>\n",
       "      <td>-0.390654</td>\n",
       "      <td>-1.010508</td>\n",
       "      <td>-0.179928</td>\n",
       "      <td>-1.410526</td>\n",
       "    </tr>\n",
       "    <tr>\n",
       "      <th>1</th>\n",
       "      <td>0.562596</td>\n",
       "      <td>-0.966070</td>\n",
       "      <td>0.086598</td>\n",
       "      <td>-0.198674</td>\n",
       "      <td>0.486897</td>\n",
       "      <td>-0.930269</td>\n",
       "      <td>-0.207234</td>\n",
       "      <td>-0.383782</td>\n",
       "      <td>0.660880</td>\n",
       "      <td>0.859880</td>\n",
       "      <td>-0.179928</td>\n",
       "      <td>-0.390654</td>\n",
       "      <td>0.989601</td>\n",
       "      <td>-0.179928</td>\n",
       "      <td>0.708955</td>\n",
       "    </tr>\n",
       "    <tr>\n",
       "      <th>2</th>\n",
       "      <td>0.562596</td>\n",
       "      <td>-0.966070</td>\n",
       "      <td>0.086598</td>\n",
       "      <td>-0.198674</td>\n",
       "      <td>0.486897</td>\n",
       "      <td>-0.930269</td>\n",
       "      <td>-0.207234</td>\n",
       "      <td>-0.383782</td>\n",
       "      <td>0.660880</td>\n",
       "      <td>-1.162953</td>\n",
       "      <td>-0.179928</td>\n",
       "      <td>-0.390654</td>\n",
       "      <td>0.989601</td>\n",
       "      <td>-0.179928</td>\n",
       "      <td>0.708955</td>\n",
       "    </tr>\n",
       "    <tr>\n",
       "      <th>3</th>\n",
       "      <td>0.562596</td>\n",
       "      <td>-0.966070</td>\n",
       "      <td>0.653624</td>\n",
       "      <td>-0.198674</td>\n",
       "      <td>0.486897</td>\n",
       "      <td>-1.125483</td>\n",
       "      <td>-0.207234</td>\n",
       "      <td>-0.496402</td>\n",
       "      <td>0.660880</td>\n",
       "      <td>-1.162953</td>\n",
       "      <td>-0.179928</td>\n",
       "      <td>-0.390654</td>\n",
       "      <td>0.989601</td>\n",
       "      <td>-0.179928</td>\n",
       "      <td>0.708955</td>\n",
       "    </tr>\n",
       "    <tr>\n",
       "      <th>4</th>\n",
       "      <td>0.562596</td>\n",
       "      <td>1.560236</td>\n",
       "      <td>2.035894</td>\n",
       "      <td>-0.198674</td>\n",
       "      <td>0.486897</td>\n",
       "      <td>-0.735056</td>\n",
       "      <td>-0.207234</td>\n",
       "      <td>-1.301631</td>\n",
       "      <td>-2.128422</td>\n",
       "      <td>0.859880</td>\n",
       "      <td>-0.179928</td>\n",
       "      <td>2.559811</td>\n",
       "      <td>-1.010508</td>\n",
       "      <td>-0.179928</td>\n",
       "      <td>-1.410526</td>\n",
       "    </tr>\n",
       "  </tbody>\n",
       "</table>\n",
       "</div>"
      ],
      "text/plain": [
       "   order_status  Monthly Income  latitude  Family size   Reviews  Pin code  \\\n",
       "0      0.562596        0.928660  1.206987     1.301837  0.486897  0.241013   \n",
       "1      0.562596       -0.966070  0.086598    -0.198674  0.486897 -0.930269   \n",
       "2      0.562596       -0.966070  0.086598    -0.198674  0.486897 -0.930269   \n",
       "3      0.562596       -0.966070  0.653624    -0.198674  0.486897 -1.125483   \n",
       "4      0.562596        1.560236  2.035894    -0.198674  0.486897 -0.735056   \n",
       "\n",
       "        Age  longitude  Educational Qualifications  Gender_Male  \\\n",
       "0  1.238997   0.417693                    0.660880     0.859880   \n",
       "1 -0.207234  -0.383782                    0.660880     0.859880   \n",
       "2 -0.207234  -0.383782                    0.660880    -1.162953   \n",
       "3 -0.207234  -0.496402                    0.660880    -1.162953   \n",
       "4 -0.207234  -1.301631                   -2.128422     0.859880   \n",
       "\n",
       "   employment_status_House wife  employment_status_Self Employeed  \\\n",
       "0                     -0.179928                         -0.390654   \n",
       "1                     -0.179928                         -0.390654   \n",
       "2                     -0.179928                         -0.390654   \n",
       "3                     -0.179928                         -0.390654   \n",
       "4                     -0.179928                          2.559811   \n",
       "\n",
       "   employment_status_Student  Marital Status_Prefer not to say  \\\n",
       "0                  -1.010508                         -0.179928   \n",
       "1                   0.989601                         -0.179928   \n",
       "2                   0.989601                         -0.179928   \n",
       "3                   0.989601                         -0.179928   \n",
       "4                  -1.010508                         -0.179928   \n",
       "\n",
       "   Marital Status_Single  \n",
       "0              -1.410526  \n",
       "1               0.708955  \n",
       "2               0.708955  \n",
       "3               0.708955  \n",
       "4              -1.410526  "
      ]
     },
     "execution_count": 68,
     "metadata": {},
     "output_type": "execute_result"
    }
   ],
   "source": [
    "# Standardization\n",
    "from sklearn.preprocessing import StandardScaler\n",
    "ss= StandardScaler()\n",
    "data=ss.fit_transform(df_stand)\n",
    "new_df_std=pd.DataFrame(data, columns=df.columns)\n",
    "new_df_std.head()"
   ]
  },
  {
   "cell_type": "code",
   "execution_count": 69,
   "metadata": {},
   "outputs": [],
   "source": [
    "# import the libraries\n",
    "import pandas as pd\n",
    "df_mean=pd.read_csv(\"meanmedian.csv\")"
   ]
  },
  {
   "cell_type": "code",
   "execution_count": 70,
   "metadata": {},
   "outputs": [
    {
     "data": {
      "text/html": [
       "<div>\n",
       "<style scoped>\n",
       "    .dataframe tbody tr th:only-of-type {\n",
       "        vertical-align: middle;\n",
       "    }\n",
       "\n",
       "    .dataframe tbody tr th {\n",
       "        vertical-align: top;\n",
       "    }\n",
       "\n",
       "    .dataframe thead th {\n",
       "        text-align: right;\n",
       "    }\n",
       "</style>\n",
       "<table border=\"1\" class=\"dataframe\">\n",
       "  <thead>\n",
       "    <tr style=\"text-align: right;\">\n",
       "      <th></th>\n",
       "      <th>Unnamed: 0</th>\n",
       "      <th>Age</th>\n",
       "      <th>Fare</th>\n",
       "      <th>Family</th>\n",
       "      <th>Survived</th>\n",
       "    </tr>\n",
       "  </thead>\n",
       "  <tbody>\n",
       "    <tr>\n",
       "      <th>0</th>\n",
       "      <td>0</td>\n",
       "      <td>22.0</td>\n",
       "      <td>7.2500</td>\n",
       "      <td>1</td>\n",
       "      <td>0</td>\n",
       "    </tr>\n",
       "    <tr>\n",
       "      <th>1</th>\n",
       "      <td>1</td>\n",
       "      <td>38.0</td>\n",
       "      <td>71.2833</td>\n",
       "      <td>1</td>\n",
       "      <td>1</td>\n",
       "    </tr>\n",
       "    <tr>\n",
       "      <th>2</th>\n",
       "      <td>2</td>\n",
       "      <td>26.0</td>\n",
       "      <td>7.9250</td>\n",
       "      <td>0</td>\n",
       "      <td>1</td>\n",
       "    </tr>\n",
       "    <tr>\n",
       "      <th>3</th>\n",
       "      <td>3</td>\n",
       "      <td>35.0</td>\n",
       "      <td>53.1000</td>\n",
       "      <td>1</td>\n",
       "      <td>1</td>\n",
       "    </tr>\n",
       "    <tr>\n",
       "      <th>4</th>\n",
       "      <td>4</td>\n",
       "      <td>35.0</td>\n",
       "      <td>8.0500</td>\n",
       "      <td>0</td>\n",
       "      <td>0</td>\n",
       "    </tr>\n",
       "  </tbody>\n",
       "</table>\n",
       "</div>"
      ],
      "text/plain": [
       "   Unnamed: 0   Age     Fare  Family  Survived\n",
       "0           0  22.0   7.2500       1         0\n",
       "1           1  38.0  71.2833       1         1\n",
       "2           2  26.0   7.9250       0         1\n",
       "3           3  35.0  53.1000       1         1\n",
       "4           4  35.0   8.0500       0         0"
      ]
     },
     "execution_count": 70,
     "metadata": {},
     "output_type": "execute_result"
    }
   ],
   "source": [
    "df_mean.head()"
   ]
  },
  {
   "cell_type": "code",
   "execution_count": 71,
   "metadata": {},
   "outputs": [
    {
     "data": {
      "text/html": [
       "<div>\n",
       "<style scoped>\n",
       "    .dataframe tbody tr th:only-of-type {\n",
       "        vertical-align: middle;\n",
       "    }\n",
       "\n",
       "    .dataframe tbody tr th {\n",
       "        vertical-align: top;\n",
       "    }\n",
       "\n",
       "    .dataframe thead th {\n",
       "        text-align: right;\n",
       "    }\n",
       "</style>\n",
       "<table border=\"1\" class=\"dataframe\">\n",
       "  <thead>\n",
       "    <tr style=\"text-align: right;\">\n",
       "      <th></th>\n",
       "      <th>Age</th>\n",
       "      <th>Fare</th>\n",
       "      <th>Family</th>\n",
       "      <th>Survived</th>\n",
       "    </tr>\n",
       "  </thead>\n",
       "  <tbody>\n",
       "    <tr>\n",
       "      <th>0</th>\n",
       "      <td>22.0</td>\n",
       "      <td>7.2500</td>\n",
       "      <td>1</td>\n",
       "      <td>0</td>\n",
       "    </tr>\n",
       "    <tr>\n",
       "      <th>1</th>\n",
       "      <td>38.0</td>\n",
       "      <td>71.2833</td>\n",
       "      <td>1</td>\n",
       "      <td>1</td>\n",
       "    </tr>\n",
       "    <tr>\n",
       "      <th>2</th>\n",
       "      <td>26.0</td>\n",
       "      <td>7.9250</td>\n",
       "      <td>0</td>\n",
       "      <td>1</td>\n",
       "    </tr>\n",
       "    <tr>\n",
       "      <th>3</th>\n",
       "      <td>35.0</td>\n",
       "      <td>53.1000</td>\n",
       "      <td>1</td>\n",
       "      <td>1</td>\n",
       "    </tr>\n",
       "    <tr>\n",
       "      <th>4</th>\n",
       "      <td>35.0</td>\n",
       "      <td>8.0500</td>\n",
       "      <td>0</td>\n",
       "      <td>0</td>\n",
       "    </tr>\n",
       "  </tbody>\n",
       "</table>\n",
       "</div>"
      ],
      "text/plain": [
       "    Age     Fare  Family  Survived\n",
       "0  22.0   7.2500       1         0\n",
       "1  38.0  71.2833       1         1\n",
       "2  26.0   7.9250       0         1\n",
       "3  35.0  53.1000       1         1\n",
       "4  35.0   8.0500       0         0"
      ]
     },
     "execution_count": 71,
     "metadata": {},
     "output_type": "execute_result"
    }
   ],
   "source": [
    "df_mean.drop(columns=\"Unnamed: 0\",inplace=True)\n",
    "df_mean.head()"
   ]
  },
  {
   "cell_type": "code",
   "execution_count": 72,
   "metadata": {},
   "outputs": [
    {
     "data": {
      "text/plain": [
       "Age         177\n",
       "Fare         45\n",
       "Family        0\n",
       "Survived      0\n",
       "dtype: int64"
      ]
     },
     "execution_count": 72,
     "metadata": {},
     "output_type": "execute_result"
    }
   ],
   "source": [
    "# check the missing values\n",
    "df_mean.isnull().sum()"
   ]
  },
  {
   "cell_type": "code",
   "execution_count": 73,
   "metadata": {},
   "outputs": [
    {
     "data": {
      "text/plain": [
       "Age         177\n",
       "Fare         45\n",
       "Family        0\n",
       "Survived      0\n",
       "dtype: int64"
      ]
     },
     "execution_count": 73,
     "metadata": {},
     "output_type": "execute_result"
    }
   ],
   "source": [
    "# check the missing values\n",
    "df_mean.isnull().sum()"
   ]
  },
  {
   "cell_type": "code",
   "execution_count": 74,
   "metadata": {},
   "outputs": [
    {
     "data": {
      "text/plain": [
       "<Axes: ylabel='Age'>"
      ]
     },
     "execution_count": 74,
     "metadata": {},
     "output_type": "execute_result"
    },
    {
     "data": {
      "image/png": "[encoded data removed]",
      "text/plain": [
       "<Figure size 640x480 with 1 Axes>"
      ]
     },
     "metadata": {},
     "output_type": "display_data"
    }
   ],
   "source": [
    "# detect the outliers using boxplot to decide whether to use mean or median\n",
    "import seaborn as sns\n",
    "sns.boxplot(df_mean[\"Age\"])"
   ]
  },
  {
   "cell_type": "code",
   "execution_count": 75,
   "metadata": {},
   "outputs": [],
   "source": [
    "# we have outliers in Age column hence we opted median to fill the missing values\n",
    "from sklearn.impute import SimpleImputer # SimpleImputer is a class\n",
    "si=SimpleImputer(strategy=\"median\")"
   ]
  },
  {
   "cell_type": "code",
   "execution_count": 76,
   "metadata": {},
   "outputs": [
    {
     "data": {
      "text/plain": [
       "0      22.0\n",
       "1      38.0\n",
       "2      26.0\n",
       "3      35.0\n",
       "4      35.0\n",
       "       ... \n",
       "886    27.0\n",
       "887    19.0\n",
       "888     NaN\n",
       "889    26.0\n",
       "890    32.0\n",
       "Name: Age, Length: 891, dtype: float64"
      ]
     },
     "execution_count": 76,
     "metadata": {},
     "output_type": "execute_result"
    }
   ],
   "source": [
    "df_mean[\"Age\"]"
   ]
  },
  {
   "cell_type": "code",
   "execution_count": 77,
   "metadata": {},
   "outputs": [],
   "source": [
    "df_mean[\"Age\"]=si.fit_transform(df_mean[[\"Age\"]])"
   ]
  },
  {
   "cell_type": "code",
   "execution_count": 78,
   "metadata": {},
   "outputs": [
    {
     "data": {
      "text/plain": [
       "Age          0\n",
       "Fare        45\n",
       "Family       0\n",
       "Survived     0\n",
       "dtype: int64"
      ]
     },
     "execution_count": 78,
     "metadata": {},
     "output_type": "execute_result"
    }
   ],
   "source": [
    "df_mean.isnull().sum()"
   ]
  },
  {
   "cell_type": "code",
   "execution_count": 79,
   "metadata": {},
   "outputs": [
    {
     "data": {
      "text/plain": [
       "<Axes: ylabel='Fare'>"
      ]
     },
     "execution_count": 79,
     "metadata": {},
     "output_type": "execute_result"
    },
    {
     "data": {
      "image/png": "[encoded data removed]",
      "text/plain": [
       "<Figure size 640x480 with 1 Axes>"
      ]
     },
     "metadata": {},
     "output_type": "display_data"
    }
   ],
   "source": [
    "sns.boxplot(df_mean[\"Fare\"])"
   ]
  },
  {
   "cell_type": "code",
   "execution_count": 80,
   "metadata": {},
   "outputs": [
    {
     "data": {
      "text/plain": [
       "order_status                        0\n",
       "Monthly Income                      0\n",
       "latitude                            0\n",
       "Family size                         0\n",
       "Reviews                             0\n",
       "Pin code                            0\n",
       "Age                                 0\n",
       "longitude                           0\n",
       "Educational Qualifications          0\n",
       "Gender_Male                         0\n",
       "employment_status_House wife        0\n",
       "employment_status_Self Employeed    0\n",
       "employment_status_Student           0\n",
       "Marital Status_Prefer not to say    0\n",
       "Marital Status_Single               0\n",
       "dtype: int64"
      ]
     },
     "execution_count": 80,
     "metadata": {},
     "output_type": "execute_result"
    }
   ],
   "source": [
    "# Ideally, we should use median but I want to use mean to demonstarte how mean is applied\n",
    "\n",
    "si_mean=SimpleImputer(strategy=\"mean\")\n",
    "df_mean[\"Fare\"]=si_mean.fit_transform(df_mean[[\"Fare\"]])\n",
    "df.isnull().sum()"
   ]
  },
  {
   "cell_type": "code",
   "execution_count": 81,
   "metadata": {},
   "outputs": [
    {
     "data": {
      "text/html": [
       "<div>\n",
       "<style scoped>\n",
       "    .dataframe tbody tr th:only-of-type {\n",
       "        vertical-align: middle;\n",
       "    }\n",
       "\n",
       "    .dataframe tbody tr th {\n",
       "        vertical-align: top;\n",
       "    }\n",
       "\n",
       "    .dataframe thead th {\n",
       "        text-align: right;\n",
       "    }\n",
       "</style>\n",
       "<table border=\"1\" class=\"dataframe\">\n",
       "  <thead>\n",
       "    <tr style=\"text-align: right;\">\n",
       "      <th></th>\n",
       "      <th>Unnamed: 0</th>\n",
       "      <th>FireplaceQu</th>\n",
       "      <th>GarageQual</th>\n",
       "      <th>SalePrice</th>\n",
       "    </tr>\n",
       "  </thead>\n",
       "  <tbody>\n",
       "    <tr>\n",
       "      <th>0</th>\n",
       "      <td>0</td>\n",
       "      <td>NaN</td>\n",
       "      <td>TA</td>\n",
       "      <td>208500</td>\n",
       "    </tr>\n",
       "    <tr>\n",
       "      <th>1</th>\n",
       "      <td>1</td>\n",
       "      <td>TA</td>\n",
       "      <td>TA</td>\n",
       "      <td>181500</td>\n",
       "    </tr>\n",
       "    <tr>\n",
       "      <th>2</th>\n",
       "      <td>2</td>\n",
       "      <td>TA</td>\n",
       "      <td>TA</td>\n",
       "      <td>223500</td>\n",
       "    </tr>\n",
       "    <tr>\n",
       "      <th>3</th>\n",
       "      <td>3</td>\n",
       "      <td>Gd</td>\n",
       "      <td>TA</td>\n",
       "      <td>140000</td>\n",
       "    </tr>\n",
       "    <tr>\n",
       "      <th>4</th>\n",
       "      <td>4</td>\n",
       "      <td>TA</td>\n",
       "      <td>TA</td>\n",
       "      <td>250000</td>\n",
       "    </tr>\n",
       "  </tbody>\n",
       "</table>\n",
       "</div>"
      ],
      "text/plain": [
       "   Unnamed: 0 FireplaceQu GarageQual  SalePrice\n",
       "0           0         NaN         TA     208500\n",
       "1           1          TA         TA     181500\n",
       "2           2          TA         TA     223500\n",
       "3           3          Gd         TA     140000\n",
       "4           4          TA         TA     250000"
      ]
     },
     "execution_count": 81,
     "metadata": {},
     "output_type": "execute_result"
    }
   ],
   "source": [
    "df1= pd.read_csv(\"mode.csv\")\n",
    "df1.head()"
   ]
  },
  {
   "cell_type": "code",
   "execution_count": 82,
   "metadata": {},
   "outputs": [],
   "source": [
    "df1.drop(columns=\"Unnamed: 0\", inplace=True)"
   ]
  },
  {
   "cell_type": "code",
   "execution_count": 83,
   "metadata": {},
   "outputs": [
    {
     "data": {
      "text/plain": [
       "FireplaceQu    690\n",
       "GarageQual      81\n",
       "SalePrice        0\n",
       "dtype: int64"
      ]
     },
     "execution_count": 83,
     "metadata": {},
     "output_type": "execute_result"
    }
   ],
   "source": [
    "df1.isnull().sum()"
   ]
  },
  {
   "cell_type": "code",
   "execution_count": 84,
   "metadata": {},
   "outputs": [
    {
     "data": {
      "text/plain": [
       "FireplaceQu\n",
       "Gd    380\n",
       "TA    313\n",
       "Fa     33\n",
       "Ex     24\n",
       "Po     20\n",
       "Name: count, dtype: int64"
      ]
     },
     "execution_count": 84,
     "metadata": {},
     "output_type": "execute_result"
    }
   ],
   "source": [
    "df1[\"FireplaceQu\"].value_counts()"
   ]
  },
  {
   "cell_type": "code",
   "execution_count": 85,
   "metadata": {},
   "outputs": [
    {
     "name": "stderr",
     "output_type": "stream",
     "text": [
      "C:\\Users\\APARNA\\AppData\\Local\\Temp\\ipykernel_18296\\1413070537.py:2: FutureWarning: A value is trying to be set on a copy of a DataFrame or Series through chained assignment using an inplace method.\n",
      "The behavior will change in pandas 3.0. This inplace method will never work because the intermediate object on which we are setting values always behaves as a copy.\n",
      "\n",
      "For example, when doing 'df[col].method(value, inplace=True)', try using 'df.method({col: value}, inplace=True)' or df[col] = df[col].method(value) instead, to perform the operation inplace on the original object.\n",
      "\n",
      "\n",
      "  df1[\"FireplaceQu\"].fillna(mode,inplace = True)\n"
     ]
    }
   ],
   "source": [
    "mode=df1[\"FireplaceQu\"].mode()[0] # square bracket 0 is to extract only the value without addional information\n",
    "df1[\"FireplaceQu\"].fillna(mode,inplace = True)"
   ]
  },
  {
   "cell_type": "code",
   "execution_count": 87,
   "metadata": {},
   "outputs": [
    {
     "data": {
      "text/plain": [
       "FireplaceQu     0\n",
       "GarageQual     81\n",
       "SalePrice       0\n",
       "dtype: int64"
      ]
     },
     "execution_count": 87,
     "metadata": {},
     "output_type": "execute_result"
    }
   ],
   "source": [
    "df1.isnull().sum()"
   ]
  },
  {
   "cell_type": "code",
   "execution_count": 88,
   "metadata": {},
   "outputs": [],
   "source": [
    "# fill the missing values in GarageQual using SimpleIMputer\n",
    "si_mode = SimpleImputer(strategy=\"most_frequent\")\n",
    "df1[[\"GarageQual\"]]=si_mode.fit_transform(df1[[\"GarageQual\"]])"
   ]
  },
  {
   "cell_type": "code",
   "execution_count": 89,
   "metadata": {},
   "outputs": [
    {
     "data": {
      "text/plain": [
       "FireplaceQu    0\n",
       "GarageQual     0\n",
       "SalePrice      0\n",
       "dtype: int64"
      ]
     },
     "execution_count": 89,
     "metadata": {},
     "output_type": "execute_result"
    }
   ],
   "source": [
    "df1.isnull().sum()"
   ]
  }
 ],
 "metadata": {
  "kernelspec": {
   "display_name": "Python 3",
   "language": "python",
   "name": "python3"
  },
  "language_info": {
   "codemirror_mode": {
    "name": "ipython",
    "version": 3
   },
   "file_extension": ".py",
   "mimetype": "text/x-python",
   "name": "python",
   "nbconvert_exporter": "python",
   "pygments_lexer": "ipython3",
   "version": "3.11.9"
  }
 },
 "nbformat": 4,
 "nbformat_minor": 2
}
